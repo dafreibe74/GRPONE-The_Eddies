{
 "cells": [
  {
   "cell_type": "code",
   "execution_count": 1,
   "id": "7d2fcc61-b1bc-4afb-a3b2-0d802a9fdb6e",
   "metadata": {},
   "outputs": [],
   "source": [
    "%matplotlib inline\n",
    "\n",
    "import matplotlib.pyplot as plt\n",
    "import pointli\n",
    "import pandas as pd\n",
    "import scipy.stats as st\n",
    "from scipy.stats import linregress\n",
    "import numpy as np\n"
   ]
  },
  {
   "cell_type": "code",
   "execution_count": 2,
   "id": "99ba95ea-0188-40fc-bcf0-eabb382bfe18",
   "metadata": {},
   "outputs": [],
   "source": [
    "happy_csv= \"../data/total_data_clean.csv\"\n"
   ]
  },
  {
   "cell_type": "code",
   "execution_count": 3,
   "id": "ce9ca0d4-4cc7-4d59-b4f8-e7bbb72ef2c7",
   "metadata": {},
   "outputs": [],
   "source": [
    "happy_df = pd.read_csv(happy_csv)"
   ]
  },
  {
   "cell_type": "code",
   "execution_count": null,
   "id": "a1f933c4-9f35-4819-97ac-8fd70c8c8944",
   "metadata": {},
   "outputs": [],
   "source": [
    "# Create an array that contains the number of users each language has\n",
    "y_axis = []\n",
    "x_axis = [2015, 2016, 2017, 2018, 2019, 2020, 2021, 2022]"
   ]
  },
  {
   "cell_type": "code",
   "execution_count": null,
   "id": "a4ce237a-d45b-45be-89ee-c90adcc7654e",
   "metadata": {},
   "outputs": [],
   "source": [
    "# Tell matplotlib that we will be making a bar chart\n",
    "# Users is our y axis and x_axis is, of course, our x axis\n",
    "# We apply align=\"edge\" to ensure our bars line up with our tick marks\n",
    "plt.bar(x_axis, users, color='r', alpha=0.5, align=\"center\")"
   ]
  },
  {
   "cell_type": "code",
   "execution_count": null,
   "id": "ae1b4e02-e9b6-4470-bc66-c9cffe1a124d",
   "metadata": {},
   "outputs": [],
   "source": [
    "# Tell matplotlib where we would like to place each of our x axis headers\n",
    "tick_locations = [value for value in x_axis]\n",
    "plt.xticks(tick_locations, [\"Java\", \"C++\", \"Python\", \"Ruby\", \"Clojure\"])\n",
    "plt.show()"
   ]
  }
 ],
 "metadata": {
  "kernelspec": {
   "display_name": "Python 3 (ipykernel)",
   "language": "python",
   "name": "python3"
  },
  "language_info": {
   "codemirror_mode": {
    "name": "ipython",
    "version": 3
   },
   "file_extension": ".py",
   "mimetype": "text/x-python",
   "name": "python",
   "nbconvert_exporter": "python",
   "pygments_lexer": "ipython3",
   "version": "3.9.13"
  }
 },
 "nbformat": 4,
 "nbformat_minor": 5
}
