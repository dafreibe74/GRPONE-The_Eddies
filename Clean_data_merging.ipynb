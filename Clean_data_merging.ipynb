{
 "cells": [
  {
   "cell_type": "code",
   "execution_count": 1,
   "id": "e29f5623-7eb1-4051-aaad-5992f4bb07b5",
   "metadata": {},
   "outputs": [],
   "source": [
    "#import necessary libraries\n",
    "import pandas as pd"
   ]
  },
  {
   "cell_type": "code",
   "execution_count": 2,
   "id": "78ceb28e-8bd7-4655-98f7-429a39f894db",
   "metadata": {},
   "outputs": [],
   "source": [
    "#store filepath in a variable\n",
    "csv_2015 = \"data/clean_2015.csv\" #Peter\n",
    "csv_2016 = \"data/clean_2016.csv\" #Peter\n",
    "csv_2017 = \"data/clean_2017.csv\" #Kelsey\n",
    "csv_2018 = \"data/clean_2018.csv\" #Nate\n",
    "csv_2019 = \"data/clean_2019.csv\" #Dave\n",
    "csv_2020 = \"data/clean_2020.csv\" #Jess\n",
    "csv_2021 = \"data/clean_2021.csv\" #Nate\n",
    "csv_2022 = \"data/clean_2022.csv\" #Kelsey\n"
   ]
  },
  {
   "cell_type": "code",
   "execution_count": 3,
   "id": "c9ff3e89-b183-4b5e-a0b9-2ff17f419372",
   "metadata": {},
   "outputs": [],
   "source": [
    "#read our data file(s)\n",
    "csv_2015_df = pd.read_csv(csv_2015)\n",
    "csv_2016_df = pd.read_csv(csv_2016)\n",
    "csv_2017_df = pd.read_csv(csv_2017)\n",
    "csv_2018_df = pd.read_csv(csv_2018)\n",
    "csv_2019_df = pd.read_csv(csv_2019)\n",
    "csv_2020_df = pd.read_csv(csv_2020)\n",
    "csv_2021_df = pd.read_csv(csv_2021)\n",
    "csv_2022_df = pd.read_csv(csv_2022)"
   ]
  },
  {
   "cell_type": "code",
   "execution_count": 124,
   "id": "4ef12782-1e46-40a4-85d8-f7bb38e405d1",
   "metadata": {},
   "outputs": [],
   "source": [
    "#turn into a dataframe\n",
    "#csv_2015_df = pd.drop(csv_2015_df)\n",
    "# csv_2016_df = pd.DataFrame(csv_2016_df)\n",
    "# csv_2017_df = pd.DataFrame(csv_2017_df)\n",
    "# csv_2018_df = pd.DataFrame(csv_2018_df)\n",
    "# csv_2019_df = pd.DataFrame(csv_2019_df)\n",
    "# csv_2020_df = pd.DataFrame(csv_2020_df)\n",
    "# csv_2021_df = pd.DataFrame(csv_2021_df)\n",
    "# csv_2022_df = pd.DataFrame(csv_2022_df)"
   ]
  },
  {
   "cell_type": "code",
   "execution_count": 4,
   "id": "95521082-ad3d-444e-937e-24773a624bae",
   "metadata": {},
   "outputs": [],
   "source": [
    "#drop year column\n",
    "csv_2015_df = pd.DataFrame(csv_2015_df)\n",
    "csv_2016_df = pd.DataFrame(csv_2016_df)\n",
    "csv_2017_df = pd.DataFrame(csv_2017_df)\n",
    "csv_2018_df = pd.DataFrame(csv_2018_df)\n",
    "csv_2019_df = pd.DataFrame(csv_2019_df)\n",
    "csv_2020_df = pd.DataFrame(csv_2020_df)\n",
    "csv_2021_df = pd.DataFrame(csv_2021_df)\n",
    "csv_2022_df = pd.DataFrame(csv_2022_df)"
   ]
  },
  {
   "cell_type": "code",
   "execution_count": 8,
   "id": "edce5dae-a073-4698-9bd2-4186bbd35694",
   "metadata": {},
   "outputs": [
    {
     "ename": "ValueError",
     "evalue": "You are trying to merge on object and float64 columns. If you wish to proceed you should use pd.concat",
     "output_type": "error",
     "traceback": [
      "\u001b[0;31m---------------------------------------------------------------------------\u001b[0m",
      "\u001b[0;31mValueError\u001b[0m                                Traceback (most recent call last)",
      "\u001b[0;32m/var/folders/26/chsh3pkx14dg5ywx894b8gwm0000gn/T/ipykernel_2506/2921479153.py\u001b[0m in \u001b[0;36m<module>\u001b[0;34m\u001b[0m\n\u001b[1;32m      2\u001b[0m \u001b[0mcombined_csv\u001b[0m \u001b[0;34m=\u001b[0m \u001b[0mpd\u001b[0m\u001b[0;34m.\u001b[0m\u001b[0mmerge\u001b[0m\u001b[0;34m(\u001b[0m\u001b[0mcsv_2015_df\u001b[0m\u001b[0;34m,\u001b[0m \u001b[0mcsv_2016_df\u001b[0m\u001b[0;34m,\u001b[0m \u001b[0mhow\u001b[0m \u001b[0;34m=\u001b[0m \u001b[0;34m'outer'\u001b[0m\u001b[0;34m)\u001b[0m\u001b[0;34m\u001b[0m\u001b[0;34m\u001b[0m\u001b[0m\n\u001b[1;32m      3\u001b[0m \u001b[0mcombined_csv\u001b[0m \u001b[0;34m=\u001b[0m \u001b[0mpd\u001b[0m\u001b[0;34m.\u001b[0m\u001b[0mmerge\u001b[0m\u001b[0;34m(\u001b[0m\u001b[0mcombined_csv\u001b[0m\u001b[0;34m,\u001b[0m \u001b[0mcsv_2017_df\u001b[0m\u001b[0;34m,\u001b[0m \u001b[0mhow\u001b[0m \u001b[0;34m=\u001b[0m \u001b[0;34m'outer'\u001b[0m\u001b[0;34m)\u001b[0m\u001b[0;34m\u001b[0m\u001b[0;34m\u001b[0m\u001b[0m\n\u001b[0;32m----> 4\u001b[0;31m \u001b[0mcombined_csv\u001b[0m \u001b[0;34m=\u001b[0m \u001b[0mpd\u001b[0m\u001b[0;34m.\u001b[0m\u001b[0mmerge\u001b[0m\u001b[0;34m(\u001b[0m\u001b[0mcombined_csv\u001b[0m\u001b[0;34m,\u001b[0m \u001b[0mcsv_2018_df\u001b[0m\u001b[0;34m,\u001b[0m \u001b[0mhow\u001b[0m \u001b[0;34m=\u001b[0m \u001b[0;34m'outer'\u001b[0m\u001b[0;34m)\u001b[0m\u001b[0;34m\u001b[0m\u001b[0;34m\u001b[0m\u001b[0m\n\u001b[0m\u001b[1;32m      5\u001b[0m \u001b[0;31m#combined_csv = pd.merge(combined_csv, csv_2019_df, how = 'outer')\u001b[0m\u001b[0;34m\u001b[0m\u001b[0;34m\u001b[0m\u001b[0m\n\u001b[1;32m      6\u001b[0m \u001b[0;31m#combined_csv = pd.merge(combined_csv, csv_2020_df, how = 'outer')\u001b[0m\u001b[0;34m\u001b[0m\u001b[0;34m\u001b[0m\u001b[0m\n",
      "\u001b[0;32m~/opt/anaconda3/lib/python3.9/site-packages/pandas/core/reshape/merge.py\u001b[0m in \u001b[0;36mmerge\u001b[0;34m(left, right, how, on, left_on, right_on, left_index, right_index, sort, suffixes, copy, indicator, validate)\u001b[0m\n\u001b[1;32m    105\u001b[0m     \u001b[0mvalidate\u001b[0m\u001b[0;34m:\u001b[0m \u001b[0mstr\u001b[0m \u001b[0;34m|\u001b[0m \u001b[0;32mNone\u001b[0m \u001b[0;34m=\u001b[0m \u001b[0;32mNone\u001b[0m\u001b[0;34m,\u001b[0m\u001b[0;34m\u001b[0m\u001b[0;34m\u001b[0m\u001b[0m\n\u001b[1;32m    106\u001b[0m ) -> DataFrame:\n\u001b[0;32m--> 107\u001b[0;31m     op = _MergeOperation(\n\u001b[0m\u001b[1;32m    108\u001b[0m         \u001b[0mleft\u001b[0m\u001b[0;34m,\u001b[0m\u001b[0;34m\u001b[0m\u001b[0;34m\u001b[0m\u001b[0m\n\u001b[1;32m    109\u001b[0m         \u001b[0mright\u001b[0m\u001b[0;34m,\u001b[0m\u001b[0;34m\u001b[0m\u001b[0;34m\u001b[0m\u001b[0m\n",
      "\u001b[0;32m~/opt/anaconda3/lib/python3.9/site-packages/pandas/core/reshape/merge.py\u001b[0m in \u001b[0;36m__init__\u001b[0;34m(self, left, right, how, on, left_on, right_on, axis, left_index, right_index, sort, suffixes, copy, indicator, validate)\u001b[0m\n\u001b[1;32m    702\u001b[0m         \u001b[0;31m# validate the merge keys dtypes. We may need to coerce\u001b[0m\u001b[0;34m\u001b[0m\u001b[0;34m\u001b[0m\u001b[0m\n\u001b[1;32m    703\u001b[0m         \u001b[0;31m# to avoid incompatible dtypes\u001b[0m\u001b[0;34m\u001b[0m\u001b[0;34m\u001b[0m\u001b[0m\n\u001b[0;32m--> 704\u001b[0;31m         \u001b[0mself\u001b[0m\u001b[0;34m.\u001b[0m\u001b[0m_maybe_coerce_merge_keys\u001b[0m\u001b[0;34m(\u001b[0m\u001b[0;34m)\u001b[0m\u001b[0;34m\u001b[0m\u001b[0;34m\u001b[0m\u001b[0m\n\u001b[0m\u001b[1;32m    705\u001b[0m \u001b[0;34m\u001b[0m\u001b[0m\n\u001b[1;32m    706\u001b[0m         \u001b[0;31m# If argument passed to validate,\u001b[0m\u001b[0;34m\u001b[0m\u001b[0;34m\u001b[0m\u001b[0m\n",
      "\u001b[0;32m~/opt/anaconda3/lib/python3.9/site-packages/pandas/core/reshape/merge.py\u001b[0m in \u001b[0;36m_maybe_coerce_merge_keys\u001b[0;34m(self)\u001b[0m\n\u001b[1;32m   1259\u001b[0m                     \u001b[0minferred_right\u001b[0m \u001b[0;32min\u001b[0m \u001b[0mstring_types\u001b[0m \u001b[0;32mand\u001b[0m \u001b[0minferred_left\u001b[0m \u001b[0;32mnot\u001b[0m \u001b[0;32min\u001b[0m \u001b[0mstring_types\u001b[0m\u001b[0;34m\u001b[0m\u001b[0;34m\u001b[0m\u001b[0m\n\u001b[1;32m   1260\u001b[0m                 ):\n\u001b[0;32m-> 1261\u001b[0;31m                     \u001b[0;32mraise\u001b[0m \u001b[0mValueError\u001b[0m\u001b[0;34m(\u001b[0m\u001b[0mmsg\u001b[0m\u001b[0;34m)\u001b[0m\u001b[0;34m\u001b[0m\u001b[0;34m\u001b[0m\u001b[0m\n\u001b[0m\u001b[1;32m   1262\u001b[0m \u001b[0;34m\u001b[0m\u001b[0m\n\u001b[1;32m   1263\u001b[0m             \u001b[0;31m# datetimelikes must match exactly\u001b[0m\u001b[0;34m\u001b[0m\u001b[0;34m\u001b[0m\u001b[0m\n",
      "\u001b[0;31mValueError\u001b[0m: You are trying to merge on object and float64 columns. If you wish to proceed you should use pd.concat"
     ]
    }
   ],
   "source": [
    "# #merge data\n",
    "# combined_csv = pd.merge(csv_2015_df, csv_2016_df, how = 'outer')\n",
    "# combined_csv = pd.merge(combined_csv, csv_2017_df, how = 'outer')\n",
    "# combined_csv = pd.merge(combined_csv, csv_2018_df, how = 'outer')\n",
    "# #combined_csv = pd.merge(combined_csv, csv_2019_df, how = 'outer')\n",
    "# #combined_csv = pd.merge(combined_csv, csv_2020_df, how = 'outer')\n",
    "# combined_csv = pd.merge(combined_csv, csv_2021_df, how = 'outer')\n",
    "# #combined_csv = pd.merge(combined_csv, csv_2022_df, how = 'outer')\n",
    "\n",
    "# combined_csv\n",
    "\n",
    "frames = [csv_2015_df, csv_2016_df, csv_2017_df, csv_2018_df, csv_2019_df, csv_2020_df, csv_2021_df, csv_2022_df]\n"
   ]
  },
  {
   "cell_type": "code",
   "execution_count": null,
   "id": "2419e687-4e9a-442f-b6d1-0127da05b1d6",
   "metadata": {},
   "outputs": [],
   "source": []
  }
 ],
 "metadata": {
  "kernelspec": {
   "display_name": "Python 3 (ipykernel)",
   "language": "python",
   "name": "python3"
  },
  "language_info": {
   "codemirror_mode": {
    "name": "ipython",
    "version": 3
   },
   "file_extension": ".py",
   "mimetype": "text/x-python",
   "name": "python",
   "nbconvert_exporter": "python",
   "pygments_lexer": "ipython3",
   "version": "3.9.13"
  }
 },
 "nbformat": 4,
 "nbformat_minor": 5
}
