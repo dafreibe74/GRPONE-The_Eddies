{
 "cells": [
  {
   "cell_type": "code",
   "execution_count": null,
   "id": "e29f5623-7eb1-4051-aaad-5992f4bb07b5",
   "metadata": {},
   "outputs": [],
   "source": [
    "#import necessary libraries\n",
    "import pandas as pd\n"
   ]
  },
  {
   "cell_type": "code",
   "execution_count": null,
   "id": "78ceb28e-8bd7-4655-98f7-429a39f894db",
   "metadata": {},
   "outputs": [],
   "source": [
    "#store filepath in a variable\n",
    "csv_2015 = \"data/clean_2015.csv\" #Peter\n",
    "csv_2016 = \"data/clean_2016.csv\" #Peter\n",
    "csv_2017 = \"data/clean_2017.csv\" #Kelsey\n",
    "csv_2018 = \"data/clean_2018.csv\" #Nate\n",
    "csv_2019 = \"data/clean_2019.csv\" #Dave\n",
    "csv_2020 = \"data/clean_2020.csv\" #Jess\n",
    "csv_2021 = \"data/clean_2021.csv\" #Nate\n",
    "csv_2022 = \"data/clean_2022.csv\" #Kelsey\n"
   ]
  },
  {
   "cell_type": "code",
   "execution_count": null,
   "id": "c9ff3e89-b183-4b5e-a0b9-2ff17f419372",
   "metadata": {},
   "outputs": [],
   "source": [
    "#read our data file(s)\n",
    "csv_2015_df = pd.read_csv(csv_2015)\n",
    "csv_2016_df = pd.read_csv(csv_2016)\n",
    "csv_2017_df = pd.read_csv(csv_2017)\n",
    "csv_2018_df = pd.read_csv(csv_2018)\n",
    "csv_2019_df = pd.read_csv(csv_2019)\n",
    "csv_2020_df = pd.read_csv(csv_2020)\n",
    "csv_2021_df = pd.read_csv(csv_2021)\n",
    "csv_2022_df = pd.read_csv(csv_2022)"
   ]
  },
  {
   "cell_type": "code",
   "execution_count": null,
   "id": "4ef12782-1e46-40a4-85d8-f7bb38e405d1",
   "metadata": {},
   "outputs": [],
   "source": [
    "csv_2022_df.columns.tolist()\n"
   ]
  },
  {
   "cell_type": "code",
   "execution_count": null,
   "id": "1c31c72d-850e-431e-ad18-4ab4e17fc074",
   "metadata": {},
   "outputs": [],
   "source": [
    "csv_2015_df.columns.tolist()"
   ]
  },
  {
   "cell_type": "code",
   "execution_count": null,
   "id": "95521082-ad3d-444e-937e-24773a624bae",
   "metadata": {},
   "outputs": [],
   "source": [
    "#drop year column\n",
    "csv_2015_df = pd.DataFrame(csv_2015_df)\n",
    "csv_2016_df = pd.DataFrame(csv_2016_df)\n",
    "csv_2017_df = pd.DataFrame(csv_2017_df)\n",
    "csv_2018_df = pd.DataFrame(csv_2018_df)\n",
    "csv_2019_df = pd.DataFrame(csv_2019_df)\n",
    "csv_2020_df = pd.DataFrame(csv_2020_df)\n",
    "csv_2021_df = pd.DataFrame(csv_2021_df)\n",
    "csv_2022_df = pd.DataFrame(csv_2022_df)"
   ]
  },
  {
   "cell_type": "code",
   "execution_count": null,
   "id": "78e52169-b964-4ff7-b773-40b7e9b53525",
   "metadata": {},
   "outputs": [],
   "source": [
    "csv_2020_df = csv_2020_df[['Country', 'Region','Happiness_Rank', 'Happiness_Score',\n",
    "                               'Economy_GDP', 'Family', 'Life_Expectancy', 'Freedom',\n",
    "                               'Trust_in_Gov', 'Generosity', 'Dystopia_Residual', 'Year']]\n",
    "csv_2020_df.columns.tolist()"
   ]
  },
  {
   "cell_type": "code",
   "execution_count": null,
   "id": "1d9d7de5-459a-406c-82a7-5717fb35b849",
   "metadata": {},
   "outputs": [],
   "source": [
    "# column cleaning\n",
    "csv_2021_df = csv_2021_df.rename(columns={'Dystopia + residual' : 'Dystopia_Residual'})\n",
    "csv_2021_df['Year'] = 2021\n",
    "csv_2021_df = csv_2021_df[['Country', 'Region','Happiness_Rank', 'Happiness_Score',\n",
    "                               'Economy_GDP', 'Family', 'Life_Expectancy', 'Freedom',\n",
    "                               'Trust_in_Gov', 'Generosity', 'Dystopia_Residual', 'Year']]\n",
    "csv_2021_df.columns.tolist()"
   ]
  },
  {
   "cell_type": "code",
   "execution_count": null,
   "id": "edce5dae-a073-4698-9bd2-4186bbd35694",
   "metadata": {},
   "outputs": [],
   "source": [
    "# #merge data\n",
    "# combined_csv = pd.merge(csv_2015_df, csv_2016_df, how = 'outer')\n",
    "# combined_csv = pd.merge(combined_csv, csv_2017_df, how = 'outer')\n",
    "# combined_csv = pd.merge(combined_csv, csv_2018_df, how = 'outer')\n",
    "# #combined_csv = pd.merge(combined_csv, csv_2019_df, how = 'outer')\n",
    "# #combined_csv = pd.merge(combined_csv, csv_2020_df, how = 'outer')\n",
    "# combined_csv = pd.merge(combined_csv, csv_2021_df, how = 'outer')\n",
    "# #combined_csv = pd.merge(combined_csv, csv_2022_df, how = 'outer')\n",
    "\n",
    "# combined_csv\n",
    "\n",
    "frames = [csv_2015_df, csv_2016_df, csv_2017_df, csv_2018_df, \n",
    "          csv_2019_df, csv_2020_df, csv_2021_df, csv_2022_df]\n"
   ]
  },
  {
   "cell_type": "code",
   "execution_count": null,
   "id": "2419e687-4e9a-442f-b6d1-0127da05b1d6",
   "metadata": {},
   "outputs": [],
   "source": [
    "total_raw_data_df = pd.concat(frames)"
   ]
  },
  {
   "cell_type": "code",
   "execution_count": null,
   "id": "83f10d44-d7ed-4e90-ac87-9f0720f76ca2",
   "metadata": {},
   "outputs": [],
   "source": [
    "total_raw_data_df"
   ]
  },
  {
   "cell_type": "code",
   "execution_count": null,
   "id": "09cf86de-477e-4e5a-9823-c9de0b8436da",
   "metadata": {},
   "outputs": [],
   "source": [
    "total_raw_data_df.to_csv(\"data/total_data_clean.csv\", index=False, encoding=\"ISO-8859-1\")"
   ]
  },
  {
   "cell_type": "code",
   "execution_count": null,
   "id": "8bfd3e44-d4d7-4324-bcb1-15f238764a5c",
   "metadata": {},
   "outputs": [],
   "source": []
  }
 ],
 "metadata": {
  "kernelspec": {
   "display_name": "Python 3 (ipykernel)",
   "language": "python",
   "name": "python3"
  },
  "language_info": {
   "codemirror_mode": {
    "name": "ipython",
    "version": 3
   },
   "file_extension": ".py",
   "mimetype": "text/x-python",
   "name": "python",
   "nbconvert_exporter": "python",
   "pygments_lexer": "ipython3",
   "version": "3.9.13"
  }
 },
 "nbformat": 4,
 "nbformat_minor": 5
}
