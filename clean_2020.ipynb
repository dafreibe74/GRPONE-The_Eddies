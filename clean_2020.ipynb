{
 "cells": [
  {
   "cell_type": "code",
   "execution_count": null,
   "id": "1cbab015-1ce9-4fd7-a75a-a76923fb1c95",
   "metadata": {},
   "outputs": [],
   "source": [
    "#import necessary libraries\n",
    "import pandas as pd\n",
    "import numpy as np"
   ]
  },
  {
   "cell_type": "code",
   "execution_count": null,
   "id": "01a6618a-4a53-4f26-8e06-d0fbf53367a4",
   "metadata": {},
   "outputs": [],
   "source": [
    "csv_2020 = \"data/2020.csv\"\n",
    "csv_2020_df = pd.read_csv(csv_2020)\n",
    "csv_2020_df = pd.DataFrame(csv_2020_df)"
   ]
  },
  {
   "cell_type": "code",
   "execution_count": null,
   "id": "1322cbd9-b9a3-4949-90db-d8afee1b98e4",
   "metadata": {},
   "outputs": [],
   "source": [
    "csv_2020_df.loc[:,\"Year\"] = \"2020\"\n",
    "csv_2020_df.loc[:,\"Happiness_Rank\"] = \"nan\""
   ]
  },
  {
   "cell_type": "code",
   "execution_count": null,
   "id": "a461d985-303c-4d06-8252-aa2f4336aed2",
   "metadata": {},
   "outputs": [],
   "source": [
    "csv_2020_df.head()"
   ]
  },
  {
   "cell_type": "code",
   "execution_count": null,
   "id": "6a05e771-02a1-4c9e-9a61-4da44f24bc35",
   "metadata": {},
   "outputs": [],
   "source": [
    "csv_2020_df.columns"
   ]
  },
  {
   "cell_type": "code",
   "execution_count": null,
   "id": "4dc425c9-8155-4ac8-8eba-08a6d0e3bc27",
   "metadata": {},
   "outputs": [],
   "source": [
    "# rename columns 'Country', 'Region', 'Happiness_Rank', 'Economy_GDP',  'Family', 'Life_Expectancy', 'Freedom', 'Trust_in_Gov', 'Generosity', 'Dystopia_Residual'\n",
    "renamed_df = csv_2020_df.rename(columns={\"Country name\":\"Country\", \"Regional indicator\":\"Region\", \"Ladder score\":\"Happiness_Score\", \"Logged GDP per capita\":\"Economy_GDP\",\"Perceptions of corruption\":\"Trust_in_Gov\",\"Social support\":\"Family\",\"Healthy life expectancy\":\"Life_Expectancy\",\"Freedom to make life choices\":\"Freedom\",\"Dystopia + residual\":\"Dystopia_Residual\"})\n",
    "renamed_df.head()"
   ]
  },
  {
   "cell_type": "code",
   "execution_count": null,
   "id": "fc898ac9-21d4-493a-aecf-a83e2aa146fe",
   "metadata": {},
   "outputs": [],
   "source": [
    "renamed_df.drop(['Standard error of ladder score', 'upperwhisker','lowerwhisker','Ladder score in Dystopia','Explained by: Log GDP per capita','Explained by: Social support','Explained by: Healthy life expectancy',\n",
    "       'Explained by: Freedom to make life choices',\n",
    "       'Explained by: Generosity', 'Explained by: Perceptions of corruption'], axis=1, inplace = True)\n",
    "renamed_df.head()"
   ]
  },
  {
   "cell_type": "code",
   "execution_count": null,
   "id": "d4f126a7-26fe-4dd6-bd07-4ca3c340871e",
   "metadata": {},
   "outputs": [],
   "source": [
    "#renamed_df.insert(loc=0, column='Happiness Rank', value=np.arange(len(renamed_df)))\n",
    "#renamed_df"
   ]
  },
  {
   "cell_type": "code",
   "execution_count": null,
   "id": "e320704a-fd00-4421-897b-d467c320e3d7",
   "metadata": {},
   "outputs": [],
   "source": [
    "renamed_df = renamed_df[['Country', 'Region','Happiness_Rank', 'Happiness_Score',\n",
    "                               'Economy_GDP', 'Family', 'Life_Expectancy', 'Freedom',\n",
    "                               'Trust_in_Gov', 'Generosity', 'Dystopia_Residual', 'Year']]\n",
    "renamed_df"
   ]
  },
  {
   "cell_type": "code",
   "execution_count": null,
   "id": "0618d63c-55b8-4a0a-818a-ca6e89768a91",
   "metadata": {},
   "outputs": [],
   "source": [
    "renamed_df.to_csv('data/clean_2020.csv', index=False, encoding=\"ISO-8859-1\")"
   ]
  },
  {
   "cell_type": "code",
   "execution_count": null,
   "id": "7807f166-4e23-4de6-8629-12b86d514276",
   "metadata": {},
   "outputs": [],
   "source": []
  },
  {
   "cell_type": "code",
   "execution_count": null,
   "id": "f40d8c04-0ad5-4bf4-9598-47619a49ee9c",
   "metadata": {},
   "outputs": [],
   "source": []
  }
 ],
 "metadata": {
  "kernelspec": {
   "display_name": "Python 3 (ipykernel)",
   "language": "python",
   "name": "python3"
  },
  "language_info": {
   "codemirror_mode": {
    "name": "ipython",
    "version": 3
   },
   "file_extension": ".py",
   "mimetype": "text/x-python",
   "name": "python",
   "nbconvert_exporter": "python",
   "pygments_lexer": "ipython3",
   "version": "3.9.13"
  }
 },
 "nbformat": 4,
 "nbformat_minor": 5
}
