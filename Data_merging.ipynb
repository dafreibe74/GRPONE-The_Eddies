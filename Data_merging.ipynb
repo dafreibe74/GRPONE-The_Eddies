{
 "cells": [
  {
   "cell_type": "code",
   "execution_count": null,
   "id": "d696d1a5-4597-4cac-b699-5661de7a5525",
   "metadata": {},
   "outputs": [],
   "source": [
    "#import necessary libraries\n",
    "import pandas as pd"
   ]
  },
  {
   "cell_type": "code",
   "execution_count": null,
   "id": "bd1855c7-8d4f-434f-b47f-58618aead195",
   "metadata": {},
   "outputs": [],
   "source": [
    "#store filepath in a variable\n",
    "csv_2015 = \"data/2015.csv\"\n",
    "csv_2016 = \"data/2016.csv\" #Peter\n",
    "csv_2017 = \"data/2017.csv\" #Kelsey\n",
    "csv_2018 = \"data/2018.csv\" #Nate\n",
    "csv_2019 = \"data/2019.csv\" #Dave\n",
    "csv_2020 = \"data/2020.csv\" #Jess\n",
    "csv_2021 = \"data/2021.csv\" #Nate\n",
    "csv_2022 = \"data/2022.csv\" #Kelsey\n"
   ]
  },
  {
   "cell_type": "code",
   "execution_count": null,
   "id": "d6e8ac9a-15f7-4c41-abe7-dcc9ba3cfa18",
   "metadata": {},
   "outputs": [],
   "source": [
    "#read our data file(s)\n",
    "csv_2015_df = pd.read_csv(csv_2015)\n",
    "csv_2016_df = pd.read_csv(csv_2016)\n",
    "csv_2017_df = pd.read_csv(csv_2017)\n",
    "csv_2018_df = pd.read_csv(csv_2018)\n",
    "csv_2019_df = pd.read_csv(csv_2019)\n",
    "csv_2020_df = pd.read_csv(csv_2020)\n",
    "csv_2021_df = pd.read_csv(csv_2021)\n",
    "csv_2022_df = pd.read_csv(csv_2022)"
   ]
  },
  {
   "cell_type": "code",
   "execution_count": null,
   "id": "efd55878-6f02-4214-a3b0-c41c82824aa0",
   "metadata": {},
   "outputs": [],
   "source": [
    "#turn into a dataframe\n",
    "csv_2015_df = pd.DataFrame(csv_2015_df)\n",
    "csv_2016_df = pd.DataFrame(csv_2016_df)\n",
    "csv_2017_df = pd.DataFrame(csv_2017_df)\n",
    "csv_2018_df = pd.DataFrame(csv_2018_df)\n",
    "csv_2019_df = pd.DataFrame(csv_2019_df)\n",
    "csv_2020_df = pd.DataFrame(csv_2020_df)\n",
    "csv_2021_df = pd.DataFrame(csv_2021_df)\n",
    "csv_2022_df = pd.DataFrame(csv_2022_df)"
   ]
  },
  {
   "cell_type": "code",
   "execution_count": null,
   "id": "0d0d5853-5aa2-41fe-bc10-68833dc85f7e",
   "metadata": {},
   "outputs": [],
   "source": [
    "#adding a column for year to each dataframe - no longer needed\n",
    "# csv_2015_df['Year'] = 2015\n",
    "# csv_2016_df['Year'] = 2016\n",
    "# csv_2017_df['Year'] = 2017\n",
    "# csv_2018_df['Year'] = 2018\n",
    "# csv_2019_df['Year'] = 2019\n",
    "# csv_2020_df['Year'] = 2020\n",
    "# csv_2021_df['Year'] = 2021\n",
    "# csv_2022_df['Year'] = 2022"
   ]
  },
  {
   "cell_type": "code",
   "execution_count": null,
   "id": "f53e7ee4-1e70-4d95-be80-06e945fa170e",
   "metadata": {},
   "outputs": [],
   "source": [
    "#display data\n",
    "csv_2022_df.head()"
   ]
  },
  {
   "cell_type": "code",
   "execution_count": null,
   "id": "8ee67e49-5075-4210-a396-6414d18b6459",
   "metadata": {},
   "outputs": [],
   "source": [
    "#merge data\n",
    "csv_15_16_df = pd.merge(csv_2015_df, csv_2016_df, how = 'outer')\n",
    "combined_csv = pd.merge(csv_15_16, csv_2017_df, how = 'outer')\n",
    "combined_csv = pd.merge(combined_csv, csv_2018_df, how = 'outer')\n",
    "combined_csv = pd.merge(combined_csv, csv_2019_df, how = 'outer')\n",
    "combined_csv = pd.merge(combined_csv, csv_2020_df, how = 'outer')\n",
    "combined_csv = pd.merge(combined_csv, csv_2021_df, how = 'outer')\n",
    "combined_csv = pd.merge(combined_csv, csv_2022_df, how = 'outer')\n",
    "combined_csv"
   ]
  },
  {
   "cell_type": "code",
   "execution_count": null,
   "id": "0aa411f7-64d5-4e95-a11c-b3e61606fea7",
   "metadata": {},
   "outputs": [],
   "source": [
    "combined_csv.columns.tolist()"
   ]
  },
  {
   "cell_type": "code",
   "execution_count": null,
   "id": "c02d967e-629d-4900-89a5-5322ce708013",
   "metadata": {},
   "outputs": [],
   "source": [
    "#drop columns we dont care about"
   ]
  },
  {
   "cell_type": "code",
   "execution_count": null,
   "id": "cccafb61-33fd-4af1-8481-aee3fd766c2a",
   "metadata": {},
   "outputs": [],
   "source": [
    "#export to csv\n",
    "combined_csv.to_csv('data/Combined_Raw_Data.csv')"
   ]
  },
  {
   "cell_type": "code",
   "execution_count": null,
   "id": "17caae71-215f-4ada-b338-5aef87f4f0de",
   "metadata": {},
   "outputs": [],
   "source": [
    "#next steps would be to combine like columns with slightly different names"
   ]
  }
 ],
 "metadata": {
  "kernelspec": {
   "display_name": "Python 3 (ipykernel)",
   "language": "python",
   "name": "python3"
  },
  "language_info": {
   "codemirror_mode": {
    "name": "ipython",
    "version": 3
   },
   "file_extension": ".py",
   "mimetype": "text/x-python",
   "name": "python",
   "nbconvert_exporter": "python",
   "pygments_lexer": "ipython3",
   "version": "3.9.13"
  }
 },
 "nbformat": 4,
 "nbformat_minor": 5
}
