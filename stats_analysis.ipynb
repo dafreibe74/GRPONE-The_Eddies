{
 "cells": [
  {
   "cell_type": "code",
   "execution_count": null,
   "id": "28264a13-ba19-455c-895a-34502e87f215",
   "metadata": {},
   "outputs": [],
   "source": [
    "# Dependencies and Setup\n",
    "import matplotlib.pyplot as plt\n",
    "import pandas as pd\n",
    "import scipy.stats as st\n",
    "import numpy as np\n",
    "from scipy.stats import linregress"
   ]
  },
  {
   "cell_type": "code",
   "execution_count": null,
   "id": "07873458-239a-4d91-b2f9-29499b3b6d49",
   "metadata": {},
   "outputs": [],
   "source": [
    "#import and read files\n",
    "covid = \"data/clean_covid.csv\"\n",
    "non_covid = \"data/clean_NON_covid.csv\"\n",
    "covid_df = pd.read_csv(covid)\n",
    "non_covid_df = pd.read_csv(non_covid)"
   ]
  },
  {
   "cell_type": "code",
   "execution_count": null,
   "id": "ecfd5e9c-1afa-48b8-9cea-35323a9affc6",
   "metadata": {},
   "outputs": [],
   "source": [
    "# Generate a summary statistics table of mean, median, variance, standard deviation, and SEM\n",
    "non_covid_summary = non_covid_df.groupby('Year')\n",
    "\n",
    "# Use groupby and summary statistical methods to calculate the following properties of each drug regimen: \n",
    "# mean, median, variance, standard deviation, and SEM \n",
    "mean = non_covid_summary['Happiness_Score'].mean()\n",
    "median = non_covid_summary['Happiness_Score'].median()\n",
    "variance = non_covid_summary['Happiness_Score'].var()\n",
    "std = non_covid_summary['Happiness_Score'].std()\n",
    "sem = non_covid_summary['Happiness_Score'].sem()\n",
    "\n",
    "# Assemble the resulting series into a single summary DataFrame.\n",
    "non_covid_summary_table = pd.DataFrame({'Mean Happiness Score':mean,\n",
    "                              'Median Happiness Score':median,\n",
    "                              'Happiness Score Variance':variance,\n",
    "                              'Happiness Score Std. Dev.':std,\n",
    "                              'Happiness Score Std. Err.':sem})\n",
    "#Save the figure\n",
    "plt.savefig(\"data/non_covid_happiness_stats.png\")\n",
    "non_covid_summary_table"
   ]
  },
  {
   "cell_type": "code",
   "execution_count": null,
   "id": "a85853db-0944-4235-9779-b0b50e91b6c9",
   "metadata": {},
   "outputs": [],
   "source": [
    "# Generate a summary statistics table of mean, median, variance, standard deviation, and SEM\n",
    "covid_summary = covid_df.groupby('Year')\n",
    "\n",
    "# Use groupby and summary statistical methods to calculate the following properties of each drug regimen: \n",
    "# mean, median, variance, standard deviation, and SEM \n",
    "mean = covid_summary['Happiness_Score'].mean()\n",
    "median = covid_summary['Happiness_Score'].median()\n",
    "variance = covid_summary['Happiness_Score'].var()\n",
    "std = covid_summary['Happiness_Score'].std()\n",
    "sem = covid_summary['Happiness_Score'].sem()\n",
    "\n",
    "# Assemble the resulting series into a single summary DataFrame.\n",
    "covid_summary_table = pd.DataFrame({'Mean Happiness Score':mean,\n",
    "                              'Median Happiness Score':median,\n",
    "                              'Happiness Score Variance':variance,\n",
    "                              'Happiness Score Std. Dev.':std,\n",
    "                              'Happiness Score Std. Err.':sem})\n",
    "\n",
    "#Save the figure\n",
    "plt.savefig(\"data/covid_happiness_stats.png\")\n",
    "covid_summary_table"
   ]
  },
  {
   "cell_type": "code",
   "execution_count": null,
   "id": "5a8debd1-5757-44b5-81e9-ed5a8a97f0da",
   "metadata": {},
   "outputs": [],
   "source": [
    "\n"
   ]
  },
  {
   "cell_type": "code",
   "execution_count": null,
   "id": "b6f48bae-0575-4615-8b0b-bea879ba1f8e",
   "metadata": {},
   "outputs": [],
   "source": []
  }
 ],
 "metadata": {
  "kernelspec": {
   "display_name": "Python 3 (ipykernel)",
   "language": "python",
   "name": "python3"
  },
  "language_info": {
   "codemirror_mode": {
    "name": "ipython",
    "version": 3
   },
   "file_extension": ".py",
   "mimetype": "text/x-python",
   "name": "python",
   "nbconvert_exporter": "python",
   "pygments_lexer": "ipython3",
   "version": "3.9.13"
  }
 },
 "nbformat": 4,
 "nbformat_minor": 5
}
