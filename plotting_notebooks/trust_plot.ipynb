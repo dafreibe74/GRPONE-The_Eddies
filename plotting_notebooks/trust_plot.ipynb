{
 "cells": [
  {
   "cell_type": "code",
   "execution_count": null,
   "id": "7d2fcc61-b1bc-4afb-a3b2-0d802a9fdb6e",
   "metadata": {},
   "outputs": [],
   "source": [
    "%matplotlib inline\n",
    "\n",
    "import matplotlib.pyplot as plt\n",
    "\n",
    "import pandas as pd\n",
    "import scipy.stats as st\n",
    "from scipy.stats import linregress\n",
    "import numpy as np\n"
   ]
  },
  {
   "cell_type": "code",
   "execution_count": null,
   "id": "99ba95ea-0188-40fc-bcf0-eabb382bfe18",
   "metadata": {},
   "outputs": [],
   "source": [
    "non_cov = \"../data/clean_NON_covid.csv\"\n",
    "with_cov = \"../data/clean_covid.csv\""
   ]
  },
  {
   "cell_type": "code",
   "execution_count": null,
   "id": "ce9ca0d4-4cc7-4d59-b4f8-e7bbb72ef2c7",
   "metadata": {},
   "outputs": [],
   "source": [
    "non_cov_df = pd.read_csv(non_cov)\n",
    "with_cov_df = pd.read_csv(with_cov)"
   ]
  },
  {
   "cell_type": "code",
   "execution_count": null,
   "id": "a4ce237a-d45b-45be-89ee-c90adcc7654e",
   "metadata": {},
   "outputs": [],
   "source": [
    "non_cov_df.plot(kind=\"scatter\", x=\"Happiness_Score\", y=\"Trust_in_Gov\", grid=True, figsize=(8,8),\n",
    "              title=\"Non-Covid Years: Happiness v Trust in Goverment\")\n",
    "# Save the figure\n",
    "plt.savefig(\"../output_images/Non-COVID trust plot.png\")\n",
    "plt.show()"
   ]
  },
  {
   "cell_type": "code",
   "execution_count": null,
   "id": "e15fd0bf-65ee-4438-a2b5-aafd61693100",
   "metadata": {},
   "outputs": [],
   "source": [
    "with_cov_df.plot(kind=\"scatter\", x=\"Happiness_Score\", y=\"Trust_in_Gov\", color= \"r\", grid=True, figsize=(8,8),\n",
    "              title=\"Covid Years: Happiness v Trust in Goverment\")\n",
    "# Save the figure\n",
    "plt.savefig(\"../output_images/COVID trust plot.png\")\n",
    "plt.show()"
   ]
  },
  {
   "cell_type": "code",
   "execution_count": null,
   "id": "9fef0ecb-369d-457f-afcb-f2d2f73700fe",
   "metadata": {},
   "outputs": [],
   "source": [
    "# Regression line and scatter plot\n",
    "x= non_cov_df['Happiness_Score']\n",
    "y= non_cov_df['Trust_in_Gov']\n",
    "(slope, intercept, rvalue, pvalue, stderr) = st.linregress(x, y)\n",
    "regression_values = x * slope + intercept\n",
    "line_eq = \"y = \" + str(round(slope,2)) + \"x +\" + str(round(intercept,2))\n",
    "print(line_eq)\n",
    "plt.scatter(x,y,color='b')\n",
    "plt.plot(x,regression_values,\"k-\")\n",
    "x_scale = x.min()\n",
    "y_scale = y.max()\n",
    "plt.annotate(line_eq,(x_scale,y_scale),fontsize=15,color=\"k\")\n",
    "plt.xlabel('Happiness Score')\n",
    "plt.ylabel('Trust in Goverment')\n",
    "plt.title('Non-Covid Years: Happiness Score vs. Trust in Government')\n",
    "print(f\"The r-value is: {rvalue**2}\")\n",
    "\n",
    "# Save the figure\n",
    "plt.savefig(\"../output_images/Non-COVID trust regression.png\")\n",
    "plt.show()"
   ]
  },
  {
   "cell_type": "code",
   "execution_count": null,
   "id": "b4c23e0d-63e7-4f40-a1c6-ceaf4818b5cc",
   "metadata": {
    "jupyter": {
     "source_hidden": true
    },
    "tags": []
   },
   "outputs": [],
   "source": [
    "# Regression line and scatter plot\n",
    "x= with_cov_df['Happiness_Score']\n",
    "y= with_cov_df['Trust_in_Gov']\n",
    "(slope, intercept, rvalue, pvalue, stderr) = st.linregress(x, y)\n",
    "regression_values = x * slope + intercept\n",
    "line_eq = \"y = \" + str(round(slope,2)) + \"x +\" + str(round(intercept,2))\n",
    "print(line_eq)\n",
    "plt.scatter(x,y,color='r')\n",
    "plt.plot(x,regression_values,\"k-\")\n",
    "x_scale = x.min()\n",
    "y_scale = y.max()\n",
    "plt.annotate(line_eq,(x_scale,y_scale),fontsize=15,color=\"k\")\n",
    "plt.xlabel('Happiness Score')\n",
    "plt.ylabel('Trust in Goverment')\n",
    "plt.title('Covid Years: Happiness Score vs. Trust in Government')\n",
    "print(f\"The r-value is: {rvalue**2}\")\n",
    "# Save the figure\n",
    "plt.savefig(\"output_images/COVID trust regression.png\")\n",
    "plt.show()"
   ]
  },
  {
   "cell_type": "code",
   "execution_count": null,
   "id": "ae1b4e02-e9b6-4470-bc66-c9cffe1a124d",
   "metadata": {},
   "outputs": [],
   "source": []
  }
 ],
 "metadata": {
  "kernelspec": {
   "display_name": "Python 3 (ipykernel)",
   "language": "python",
   "name": "python3"
  },
  "language_info": {
   "codemirror_mode": {
    "name": "ipython",
    "version": 3
   },
   "file_extension": ".py",
   "mimetype": "text/x-python",
   "name": "python",
   "nbconvert_exporter": "python",
   "pygments_lexer": "ipython3",
   "version": "3.9.13"
  }
 },
 "nbformat": 4,
 "nbformat_minor": 5
}
