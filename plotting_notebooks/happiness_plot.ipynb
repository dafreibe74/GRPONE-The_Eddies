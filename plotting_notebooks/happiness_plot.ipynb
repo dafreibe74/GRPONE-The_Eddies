{
 "cells": [
  {
   "cell_type": "code",
   "execution_count": null,
   "id": "6bdc1ac7-2ada-4519-b74b-9bbc17615695",
   "metadata": {},
   "outputs": [],
   "source": [
    "# Import dependencies\n",
    "from matplotlib import pyplot as plt\n",
    "from scipy.stats import linregress\n",
    "import numpy as np\n",
    "from sklearn import datasets\n",
    "import pandas as pd\n",
    "import scipy.stats as stats"
   ]
  },
  {
   "cell_type": "code",
   "execution_count": null,
   "id": "40392c52-1eda-467d-a992-17690fe78487",
   "metadata": {},
   "outputs": [],
   "source": [
    "data = \"../data/total_data_clean.csv\"\n",
    "data_df = pd.read_csv(data)"
   ]
  },
  {
   "cell_type": "code",
   "execution_count": null,
   "id": "d7d1eaa9-ee1c-4cb0-ade4-28c3ad9b07cb",
   "metadata": {},
   "outputs": [],
   "source": [
    "data_df\n",
    "df = data_df.copy()"
   ]
  },
  {
   "cell_type": "code",
   "execution_count": null,
   "id": "8de558cb-6a1e-4d3f-badb-47a205b95b80",
   "metadata": {},
   "outputs": [],
   "source": [
    "#groupby the years\n",
    "df = df.groupby(['Year']).mean()\n",
    "df"
   ]
  },
  {
   "cell_type": "code",
   "execution_count": null,
   "id": "29d8dcb9-4003-490c-8b03-f729e87cb681",
   "metadata": {},
   "outputs": [],
   "source": [
    "x = df.index.to_list()\n",
    "y = df['Happiness_Score']\n",
    "plt.bar(x,y)\n",
    "plt.xlabel('Year')\n",
    "plt.ylabel('Average Happiness Score')\n",
    "plt.title('Happiness vs. Year')\n",
    "plt.show()"
   ]
  },
  {
   "cell_type": "code",
   "execution_count": null,
   "id": "2fa25ba3-0d40-45b7-97d9-3ad1c9424ead",
   "metadata": {},
   "outputs": [],
   "source": [
    "# Calculate Dependent (Two Sample) t-test\n",
    "stats.ttest_rel(x, y)"
   ]
  },
  {
   "cell_type": "code",
   "execution_count": null,
   "id": "8bec4854-7a4b-43d9-a3f2-34c1c8e42996",
   "metadata": {},
   "outputs": [],
   "source": []
  }
 ],
 "metadata": {
  "kernelspec": {
   "display_name": "Python 3 (ipykernel)",
   "language": "python",
   "name": "python3"
  },
  "language_info": {
   "codemirror_mode": {
    "name": "ipython",
    "version": 3
   },
   "file_extension": ".py",
   "mimetype": "text/x-python",
   "name": "python",
   "nbconvert_exporter": "python",
   "pygments_lexer": "ipython3",
   "version": "3.9.13"
  }
 },
 "nbformat": 4,
 "nbformat_minor": 5
}
