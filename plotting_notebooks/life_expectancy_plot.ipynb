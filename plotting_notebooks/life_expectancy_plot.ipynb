{
 "cells": [
  {
   "cell_type": "code",
   "execution_count": null,
   "id": "8736829b-b8cf-4d8d-a79a-4f871ceab079",
   "metadata": {},
   "outputs": [],
   "source": [
    "import matplotlib.pyplot as plt\n",
    "import pandas as pd\n",
    "import scipy.stats as st\n",
    "from scipy.stats import linregress\n",
    "import numpy as np"
   ]
  },
  {
   "cell_type": "code",
   "execution_count": null,
   "id": "cea7930d-9aa9-4f19-ad43-1f8a5e183f8b",
   "metadata": {},
   "outputs": [],
   "source": [
    "covid_csv = \"../data/clean_covid.csv\"\n",
    "non_covid_csv = \"../data/clean_NON_covid.csv\"\n",
    "total_csv = \"../data/total_data_clean.csv\"\n",
    "\n",
    "covid_df = pd.read_csv(covid_csv)\n",
    "non_covid_df = pd.read_csv(non_covid_csv)\n",
    "total_df = pd.read_csv(total_csv)"
   ]
  },
  {
   "cell_type": "code",
   "execution_count": null,
   "id": "e682dd16-d1fa-4fb7-a771-0ee27ccc4f46",
   "metadata": {},
   "outputs": [],
   "source": [
    "# Regression line and scatter plot\n",
    "x= non_covid_df['Happiness_Score']\n",
    "y= non_covid_df['Life_Expectancy']\n",
    "(slope, intercept, rvalue, pvalue, stderr) = st.linregress(x, y)\n",
    "regression_values = x * slope + intercept\n",
    "line_eq = \"y = \" + str(round(slope,2)) + \"x +\" + str(round(intercept,2))\n",
    "print(line_eq)\n",
    "plt.scatter(x,y,color='b')\n",
    "plt.plot(x,regression_values,\"k-\")\n",
    "x_scale = x.min()\n",
    "y_scale = y.max()\n",
    "plt.annotate(line_eq,(x_scale,y_scale),fontsize=15,color=\"k\")\n",
    "plt.xlabel('Happiness Score')\n",
    "plt.ylabel('Life Expectancy')\n",
    "plt.title('Happiness Score vs. Life Expectancy in Non-Covid Years')\n",
    "print(f\"The r-value is: {rvalue**2}\")\n",
    "plt.show()\n",
    "\n",
    "#Save the figure\n",
    "plt.savefig(\"../plots/life_expectancy_non_covid.png\")"
   ]
  },
  {
   "cell_type": "code",
   "execution_count": null,
   "id": "cb7f5d96-c58a-4eb9-924f-85d0214fac69",
   "metadata": {},
   "outputs": [],
   "source": [
    "# Regression line and scatter plot\n",
    "x= covid_df['Happiness_Score']\n",
    "y= covid_df['Life_Expectancy']\n",
    "(slope, intercept, rvalue, pvalue, stderr) = st.linregress(x, y)\n",
    "regression_values = x * slope + intercept\n",
    "line_eq = \"y = \" + str(round(slope,2)) + \"x +\" + str(round(intercept,2))\n",
    "print(line_eq)\n",
    "plt.scatter(x,y,color='r')\n",
    "plt.plot(x,regression_values,\"k-\")\n",
    "x_scale = x.min()\n",
    "y_scale = y.max()\n",
    "plt.annotate(line_eq,(x_scale,y_scale),fontsize=15,color=\"k\")\n",
    "plt.xlabel('Happiness Score')\n",
    "plt.ylabel('Life Expectancy')\n",
    "plt.title('Happiness Score vs. Life Expectancy in Covid Years')\n",
    "print(f\"The r-value is: {rvalue**2}\")\n",
    "plt.show()\n",
    "#Saving the figure\n",
    "plt.savefig(\"../plots/life_expectancy_covid.png\")"
   ]
  },
  {
   "cell_type": "code",
   "execution_count": null,
   "id": "291f5eda-91af-4ca4-bde2-7552b9f254f3",
   "metadata": {},
   "outputs": [],
   "source": [
    "# Regression line and scatter plot - Generosity\n",
    "x= total_df['Happiness_Score']\n",
    "y= total_df['Generosity']\n",
    "(slope, intercept, rvalue, pvalue, stderr) = st.linregress(x, y)\n",
    "regression_values = x * slope + intercept\n",
    "line_eq = \"y = \" + str(round(slope,2)) + \"x +\" + str(round(intercept,2))\n",
    "print(line_eq)\n",
    "plt.scatter(x,y,color='b')\n",
    "plt.plot(x,regression_values,\"k-\")\n",
    "x_scale = x.min()\n",
    "y_scale = y.max()\n",
    "plt.annotate(line_eq,(x_scale,y_scale),fontsize=15,color=\"k\")\n",
    "plt.xlabel('Happiness Score')\n",
    "plt.ylabel('Generosity')\n",
    "plt.title('Happiness Score vs. Generosity in Non-Covid Years')\n",
    "print(f\"The r-value is: {rvalue**2}\")\n",
    "plt.show()\n",
    "\n",
    "#Save the figure\n",
    "# plt.savefig(\"plots/life_expectancy_non_covid.png\")"
   ]
  },
  {
   "cell_type": "code",
   "execution_count": null,
   "id": "42b30759-1777-4142-8cc9-2230834d8ae5",
   "metadata": {},
   "outputs": [],
   "source": [
    "# Calculate the life expectancy mean for non-covid years\n",
    "life_expectancy_non_covid = non_covid_df[\"Life_Expectancy\"]\n",
    "life_expectancy_non_covid.mean()"
   ]
  },
  {
   "cell_type": "code",
   "execution_count": null,
   "id": "c07a78a5-bfe0-4033-a26a-6be739198fb2",
   "metadata": {},
   "outputs": [],
   "source": [
    "happy_non_covid = non_covid_df['Happiness_Score']\n",
    "happy_non_covid.mean()"
   ]
  },
  {
   "cell_type": "code",
   "execution_count": null,
   "id": "f2e7e7bf-a524-4e97-83cf-cb719e096b86",
   "metadata": {},
   "outputs": [],
   "source": [
    "happy_covid = covid_df['Happiness_Score']\n",
    "happy_covid.mean()"
   ]
  },
  {
   "cell_type": "code",
   "execution_count": null,
   "id": "5fba3c55-ec2d-4915-bd56-30c05f48cac7",
   "metadata": {},
   "outputs": [],
   "source": [
    "# Calculate Dependent (Two Sample) t-test - NON-COVID\n",
    "st.ttest_rel(life_expectancy_non_covid, happy_non_covid)"
   ]
  },
  {
   "cell_type": "code",
   "execution_count": null,
   "id": "4c11c377-e9bd-4ce8-859f-dadc19987242",
   "metadata": {},
   "outputs": [],
   "source": [
    "life_expectancy_covid = covid_df['Life_Expectancy']\n",
    "life_expectancy_covid.mean()"
   ]
  },
  {
   "cell_type": "code",
   "execution_count": null,
   "id": "1e768dc7-a1a0-481e-a11a-785c7d3681d4",
   "metadata": {},
   "outputs": [],
   "source": [
    "# Calculate Dependent (Two Sample) t-test - COVID\n",
    "st.ttest_rel(life_expectancy_covid, happy_covid)"
   ]
  }
 ],
 "metadata": {
  "kernelspec": {
   "display_name": "Python 3 (ipykernel)",
   "language": "python",
   "name": "python3"
  },
  "language_info": {
   "codemirror_mode": {
    "name": "ipython",
    "version": 3
   },
   "file_extension": ".py",
   "mimetype": "text/x-python",
   "name": "python",
   "nbconvert_exporter": "python",
   "pygments_lexer": "ipython3",
   "version": "3.9.13"
  },
  "vscode": {
   "interpreter": {
    "hash": "da8bea07a5fb250d91d18bd2d5dfc592945fd5afdd6c5f90f1efdf0d7034ebd8"
   }
  }
 },
 "nbformat": 4,
 "nbformat_minor": 5
}
