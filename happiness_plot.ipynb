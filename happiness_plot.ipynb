{
 "cells": [
  {
   "cell_type": "code",
   "execution_count": 15,
   "id": "6bdc1ac7-2ada-4519-b74b-9bbc17615695",
   "metadata": {},
   "outputs": [],
   "source": [
    "# Import dependencies\n",
    "from matplotlib import pyplot as plt\n",
    "from scipy.stats import linregress\n",
    "import numpy as np\n",
    "from sklearn import datasets\n",
    "import pandas as pd\n",
    "import scipy.stats as stats"
   ]
  },
  {
   "cell_type": "code",
   "execution_count": 16,
   "id": "40392c52-1eda-467d-a992-17690fe78487",
   "metadata": {},
   "outputs": [],
   "source": [
    "data = \"data/total_data_clean.csv\"\n",
    "data_df = pd.read_csv(data)"
   ]
  },
  {
   "cell_type": "code",
   "execution_count": 17,
   "id": "d7d1eaa9-ee1c-4cb0-ade4-28c3ad9b07cb",
   "metadata": {},
   "outputs": [],
   "source": [
    "data_df\n",
    "df = data_df.copy()"
   ]
  },
  {
   "cell_type": "code",
   "execution_count": 22,
   "id": "8de558cb-6a1e-4d3f-badb-47a205b95b80",
   "metadata": {},
   "outputs": [
    {
     "data": {
      "text/html": [
       "<div>\n",
       "<style scoped>\n",
       "    .dataframe tbody tr th:only-of-type {\n",
       "        vertical-align: middle;\n",
       "    }\n",
       "\n",
       "    .dataframe tbody tr th {\n",
       "        vertical-align: top;\n",
       "    }\n",
       "\n",
       "    .dataframe thead th {\n",
       "        text-align: right;\n",
       "    }\n",
       "</style>\n",
       "<table border=\"1\" class=\"dataframe\">\n",
       "  <thead>\n",
       "    <tr style=\"text-align: right;\">\n",
       "      <th></th>\n",
       "      <th>Happiness_Rank</th>\n",
       "      <th>Happiness_Score</th>\n",
       "      <th>Economy_GDP</th>\n",
       "      <th>Life_Expectancy</th>\n",
       "      <th>Freedom</th>\n",
       "      <th>Trust_in_Gov</th>\n",
       "      <th>Generosity</th>\n",
       "    </tr>\n",
       "    <tr>\n",
       "      <th>Year</th>\n",
       "      <th></th>\n",
       "      <th></th>\n",
       "      <th></th>\n",
       "      <th></th>\n",
       "      <th></th>\n",
       "      <th></th>\n",
       "      <th></th>\n",
       "    </tr>\n",
       "  </thead>\n",
       "  <tbody>\n",
       "    <tr>\n",
       "      <th>2015</th>\n",
       "      <td>79.493671</td>\n",
       "      <td>5.375734</td>\n",
       "      <td>0.846137</td>\n",
       "      <td>0.630259</td>\n",
       "      <td>0.428615</td>\n",
       "      <td>0.143422</td>\n",
       "      <td>0.237296</td>\n",
       "    </tr>\n",
       "    <tr>\n",
       "      <th>2016</th>\n",
       "      <td>78.980892</td>\n",
       "      <td>5.382185</td>\n",
       "      <td>0.953880</td>\n",
       "      <td>0.557619</td>\n",
       "      <td>0.370994</td>\n",
       "      <td>0.137624</td>\n",
       "      <td>0.242635</td>\n",
       "    </tr>\n",
       "    <tr>\n",
       "      <th>2017</th>\n",
       "      <td>78.000000</td>\n",
       "      <td>5.354019</td>\n",
       "      <td>0.984718</td>\n",
       "      <td>0.551341</td>\n",
       "      <td>0.408786</td>\n",
       "      <td>0.123120</td>\n",
       "      <td>0.246883</td>\n",
       "    </tr>\n",
       "    <tr>\n",
       "      <th>2018</th>\n",
       "      <td>78.500000</td>\n",
       "      <td>5.375917</td>\n",
       "      <td>0.891449</td>\n",
       "      <td>0.597346</td>\n",
       "      <td>0.454506</td>\n",
       "      <td>0.112000</td>\n",
       "      <td>0.181006</td>\n",
       "    </tr>\n",
       "    <tr>\n",
       "      <th>2019</th>\n",
       "      <td>78.500000</td>\n",
       "      <td>5.407096</td>\n",
       "      <td>0.905147</td>\n",
       "      <td>0.725244</td>\n",
       "      <td>0.392571</td>\n",
       "      <td>0.110603</td>\n",
       "      <td>0.184846</td>\n",
       "    </tr>\n",
       "    <tr>\n",
       "      <th>2020</th>\n",
       "      <td>NaN</td>\n",
       "      <td>5.473240</td>\n",
       "      <td>9.295706</td>\n",
       "      <td>64.445529</td>\n",
       "      <td>0.783360</td>\n",
       "      <td>0.733120</td>\n",
       "      <td>-0.014568</td>\n",
       "    </tr>\n",
       "    <tr>\n",
       "      <th>2021</th>\n",
       "      <td>74.000000</td>\n",
       "      <td>5.532839</td>\n",
       "      <td>9.432208</td>\n",
       "      <td>64.992799</td>\n",
       "      <td>0.791597</td>\n",
       "      <td>0.727450</td>\n",
       "      <td>-0.015134</td>\n",
       "    </tr>\n",
       "    <tr>\n",
       "      <th>2022</th>\n",
       "      <td>73.500000</td>\n",
       "      <td>5.553575</td>\n",
       "      <td>1.410445</td>\n",
       "      <td>0.586171</td>\n",
       "      <td>0.517226</td>\n",
       "      <td>0.154781</td>\n",
       "      <td>0.147377</td>\n",
       "    </tr>\n",
       "  </tbody>\n",
       "</table>\n",
       "</div>"
      ],
      "text/plain": [
       "      Happiness_Rank  Happiness_Score  Economy_GDP  Life_Expectancy   Freedom  \\\n",
       "Year                                                                            \n",
       "2015       79.493671         5.375734     0.846137         0.630259  0.428615   \n",
       "2016       78.980892         5.382185     0.953880         0.557619  0.370994   \n",
       "2017       78.000000         5.354019     0.984718         0.551341  0.408786   \n",
       "2018       78.500000         5.375917     0.891449         0.597346  0.454506   \n",
       "2019       78.500000         5.407096     0.905147         0.725244  0.392571   \n",
       "2020             NaN         5.473240     9.295706        64.445529  0.783360   \n",
       "2021       74.000000         5.532839     9.432208        64.992799  0.791597   \n",
       "2022       73.500000         5.553575     1.410445         0.586171  0.517226   \n",
       "\n",
       "      Trust_in_Gov  Generosity  \n",
       "Year                            \n",
       "2015      0.143422    0.237296  \n",
       "2016      0.137624    0.242635  \n",
       "2017      0.123120    0.246883  \n",
       "2018      0.112000    0.181006  \n",
       "2019      0.110603    0.184846  \n",
       "2020      0.733120   -0.014568  \n",
       "2021      0.727450   -0.015134  \n",
       "2022      0.154781    0.147377  "
      ]
     },
     "execution_count": 22,
     "metadata": {},
     "output_type": "execute_result"
    }
   ],
   "source": [
    "#groupby the years\n",
    "df = df.groupby(['Year']).mean()\n",
    "df"
   ]
  },
  {
   "cell_type": "code",
   "execution_count": 36,
   "id": "29d8dcb9-4003-490c-8b03-f729e87cb681",
   "metadata": {},
   "outputs": [
    {
     "data": {
      "image/png": "[encoded data removed]",
      "text/plain": [
       "<Figure size 640x480 with 1 Axes>"
      ]
     },
     "metadata": {},
     "output_type": "display_data"
    }
   ],
   "source": [
    "x = df.index.to_list()\n",
    "y = df['Happiness_Score']\n",
    "plt.bar(x,y)\n",
    "plt.xlabel('Year')\n",
    "plt.ylabel('Average Happiness Score')\n",
    "plt.title('Happiness vs. Year')\n",
    "plt.show()"
   ]
  },
  {
   "cell_type": "code",
   "execution_count": 37,
   "id": "2fa25ba3-0d40-45b7-97d9-3ad1c9424ead",
   "metadata": {},
   "outputs": [
    {
     "data": {
      "text/plain": [
       "Ttest_relResult(statistic=2392.2289124878143, pvalue=5.890530430448354e-22)"
      ]
     },
     "execution_count": 37,
     "metadata": {},
     "output_type": "execute_result"
    }
   ],
   "source": [
    "# Calculate Dependent (Two Sample) t-test\n",
    "stats.ttest_rel(x, y)"
   ]
  },
  {
   "cell_type": "code",
   "execution_count": null,
   "id": "8bec4854-7a4b-43d9-a3f2-34c1c8e42996",
   "metadata": {},
   "outputs": [],
   "source": []
  }
 ],
 "metadata": {
  "kernelspec": {
   "display_name": "Python 3 (ipykernel)",
   "language": "python",
   "name": "python3"
  },
  "language_info": {
   "codemirror_mode": {
    "name": "ipython",
    "version": 3
   },
   "file_extension": ".py",
   "mimetype": "text/x-python",
   "name": "python",
   "nbconvert_exporter": "python",
   "pygments_lexer": "ipython3",
   "version": "3.9.13"
  }
 },
 "nbformat": 4,
 "nbformat_minor": 5
}
