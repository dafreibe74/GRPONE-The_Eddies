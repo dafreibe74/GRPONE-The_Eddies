{
 "cells": [
  {
   "cell_type": "code",
   "execution_count": 1,
   "id": "37713570-e055-413b-8e3e-2775468caf2d",
   "metadata": {},
   "outputs": [],
   "source": [
    "import pandas as pd"
   ]
  },
  {
   "cell_type": "code",
   "execution_count": 12,
   "id": "909d89b8-a17c-4d85-9741-b5d6c1812ab2",
   "metadata": {},
   "outputs": [],
   "source": [
    "csv_2015 = \"data/2015.csv\"\n",
    "csv_2017 = \"data/2017.csv\" #Kelsey\n",
    "csv_2022 = \"data/2022.csv\" #Kelsey"
   ]
  },
  {
   "cell_type": "code",
   "execution_count": 13,
   "id": "448a7eff-39d5-4961-bd16-a73b9644a95e",
   "metadata": {},
   "outputs": [],
   "source": [
    "csv_2015_df = pd.read_csv(csv_2015)\n",
    "csv_2017_df = pd.read_csv(csv_2017)\n",
    "csv_2022_df = pd.read_csv(csv_2022)"
   ]
  },
  {
   "cell_type": "code",
   "execution_count": 5,
   "id": "f22a95ba-5cf7-4f7b-b39a-8cbcea869a00",
   "metadata": {},
   "outputs": [
    {
     "data": {
      "text/plain": [
       "['Country',\n",
       " 'Region',\n",
       " 'Happiness Rank',\n",
       " 'Happiness Score',\n",
       " 'Standard Error',\n",
       " 'Economy (GDP per Capita)',\n",
       " 'Family',\n",
       " 'Health (Life Expectancy)',\n",
       " 'Freedom',\n",
       " 'Trust (Government Corruption)',\n",
       " 'Generosity',\n",
       " 'Dystopia Residual']"
      ]
     },
     "execution_count": 5,
     "metadata": {},
     "output_type": "execute_result"
    }
   ],
   "source": [
    "csv_2015_df.columns.tolist()"
   ]
  },
  {
   "cell_type": "code",
   "execution_count": 24,
   "id": "776dd2fc-a002-4c08-aafe-274ffae240c6",
   "metadata": {},
   "outputs": [
    {
     "data": {
      "text/plain": [
       "['Country',\n",
       " 'Happiness.Rank',\n",
       " 'Happiness.Score',\n",
       " 'Whisker.high',\n",
       " 'Whisker.low',\n",
       " 'Economy..GDP.per.Capita.',\n",
       " 'Family',\n",
       " 'Health..Life.Expectancy.',\n",
       " 'Freedom',\n",
       " 'Generosity',\n",
       " 'Trust..Government.Corruption.',\n",
       " 'Dystopia.Residual']"
      ]
     },
     "execution_count": 24,
     "metadata": {},
     "output_type": "execute_result"
    }
   ],
   "source": [
    "csv_2017_df.columns.tolist()"
   ]
  },
  {
   "cell_type": "code",
   "execution_count": 31,
   "id": "39ecce79-7242-4076-b9e7-569f52d02868",
   "metadata": {},
   "outputs": [],
   "source": [
    "clean_2017_df = csv_2017_df.rename(columns={'Happiness.Rank' : 'Happiness_Rank', \n",
    "                                    'Happiness.Score' : 'Happiness_Score',\n",
    "                                    'Economy..GDP.per.Capita.' : 'Economy_GDP',\n",
    "                                    'Health..Life.Expectancy.' : 'Life_Expectancy',\n",
    "                                    'Trust..Government.Corruption.' : 'Trust_in_Gov',\n",
    "                                    'Dystopia.Residual' : 'Dystopia_Residual'})"
   ]
  },
  {
   "cell_type": "code",
   "execution_count": 45,
   "id": "a41d3b7c-9648-4391-9e88-9c65186c65a4",
   "metadata": {},
   "outputs": [
    {
     "data": {
      "text/plain": [
       "Index(['Country', 'Happiness_Rank', 'Happiness_Score', 'Economy_GDP', 'Family',\n",
       "       'Life_Expectancy', 'Freedom', 'Generosity', 'Trust_in_Gov',\n",
       "       'Dystopia_Residual', 'Year', 'Region'],\n",
       "      dtype='object')"
      ]
     },
     "execution_count": 45,
     "metadata": {},
     "output_type": "execute_result"
    }
   ],
   "source": [
    "clean_2017_df['Year']=2017\n",
    "clean_2017_df['Region']=\"\"\n",
    "clean_2017_df.columns\n",
    "\n",
    "# 'Country', 'Region', 'Happiness_Rank', 'Happiness_Score', 'Economy_GDP',  \n",
    "# 'Family', 'Life_Expectancy', 'Freedom', 'Trust_in_Gov', 'Generosity', 'Dystopia_Residual'"
   ]
  },
  {
   "cell_type": "code",
   "execution_count": 51,
   "id": "e626cd3f-3690-46cf-835d-ba3423451248",
   "metadata": {},
   "outputs": [],
   "source": [
    "clean_2017_df = clean_2017_df[['Country', 'Region','Happiness_Rank', 'Happiness_Score',\n",
    "                               'Economy_GDP', 'Family', 'Life_Expectancy', 'Freedom',\n",
    "                               'Trust_in_Gov', 'Generosity', 'Dystopia_Residual', 'Year']]\n",
    "# EXAMPLE TO DROP COLUMNS:\n",
    "# drop by Name\n",
    "# df1 = df1.drop(['B', 'C'], axis=1)\n",
    "\n",
    "# # Select the ones you want\n",
    "# df1 = df[['a','d']]\n",
    "\n",
    "clean_2017_df.head()\n",
    "clean_2017_df.to_csv(\"data/clean_2017.csv\", index=False, encoding=\"ISO-8859-1\")"
   ]
  },
  {
   "cell_type": "code",
   "execution_count": 14,
   "id": "4f80837e-96e5-4d3b-9f21-58905d009900",
   "metadata": {},
   "outputs": [
    {
     "data": {
      "text/plain": [
       "['RANK',\n",
       " 'Country',\n",
       " 'Happiness score',\n",
       " 'Whisker-high',\n",
       " 'Whisker-low',\n",
       " 'Dystopia (1.83) + residual',\n",
       " 'Explained by: GDP per capita',\n",
       " 'Explained by: Social support',\n",
       " 'Explained by: Healthy life expectancy',\n",
       " 'Explained by: Freedom to make life choices',\n",
       " 'Explained by: Generosity',\n",
       " 'Explained by: Perceptions of corruption']"
      ]
     },
     "execution_count": 14,
     "metadata": {},
     "output_type": "execute_result"
    }
   ],
   "source": [
    "csv_2022_df.columns.tolist()\n",
    "# 'Country', 'Region', 'Happiness_Rank', 'Happiness_Score', 'Economy_GDP',  \n",
    "# 'Family', 'Life_Expectancy', 'Freedom', 'Trust_in_Gov', 'Generosity', 'Dystopia_Residual'"
   ]
  },
  {
   "cell_type": "code",
   "execution_count": 53,
   "id": "56499fe2-40b7-4053-942a-3d0198102ee4",
   "metadata": {},
   "outputs": [],
   "source": [
    "clean_2022_df = csv_2022_df.rename(columns={'RANK' : 'Happiness_Rank',\n",
    "                                            'Happiness score': 'Happiness_Score',\n",
    "                                            'Dystopia (1.83) + residual' : 'Dystopia_Residual',\n",
    "                                            'Explained by: GDP per capita' : 'Economy_GDP',\n",
    "                                            'Explained by: Social support' : 'Family',\n",
    "                                            'Explained by: Healthy life expectancy' : 'Life_Expectancy',\n",
    "                                            'Explained by: Freedom to make life choices' : 'Freedom',\n",
    "                                            'Explained by: Generosity' : 'Generosity',\n",
    "                                            'Explained by: Perceptions of corruption' : 'Trust_in_Gov'})\n",
    "                                            "
   ]
  },
  {
   "cell_type": "code",
   "execution_count": 54,
   "id": "3b6919af-af63-4d76-88e7-3fa50c79e298",
   "metadata": {},
   "outputs": [
    {
     "data": {
      "text/plain": [
       "['Happiness_Rank',\n",
       " 'Country',\n",
       " 'Happiness_Score',\n",
       " 'Whisker-high',\n",
       " 'Whisker-low',\n",
       " 'Dystopia_Residual',\n",
       " 'Economy_GDP',\n",
       " 'Family',\n",
       " 'Life_Expectancy',\n",
       " 'Freedom',\n",
       " 'Generosity',\n",
       " 'Trust_in_Gov',\n",
       " 'Year',\n",
       " 'Region']"
      ]
     },
     "execution_count": 54,
     "metadata": {},
     "output_type": "execute_result"
    }
   ],
   "source": [
    "clean_2022_df['Year']=2022\n",
    "clean_2022_df['Region']=\"\"\n",
    "clean_2022_df.columns.tolist()"
   ]
  },
  {
   "cell_type": "code",
   "execution_count": 42,
   "id": "57c11e09-f237-4129-ab67-9597ef9dad55",
   "metadata": {},
   "outputs": [],
   "source": [
    "# normalized column names:\n",
    "# 'Country', 'Region', 'Happiness_Rank', 'Happiness_Score', 'Economy_GDP',  \n",
    "# 'Family', 'Life_Expectancy', 'Freedom', 'Trust_in_Gov', 'Generosity', 'Dystopia_Residual'"
   ]
  },
  {
   "cell_type": "code",
   "execution_count": 56,
   "id": "69262040-40f2-401c-bf27-03b0494ae5c4",
   "metadata": {},
   "outputs": [],
   "source": [
    "clean_2022_df = clean_2022_df[['Country','Region','Happiness_Rank','Happiness_Score',\n",
    "                               'Economy_GDP',\n",
    "                               'Family',\n",
    "                               'Life_Expectancy',\n",
    "                               'Freedom',\n",
    "                               'Trust_in_Gov',\n",
    "                               'Generosity',\n",
    "                               'Dystopia_Residual',\n",
    "                               'Year']]\n",
    "\n",
    "# 2022 data is missing \"FAMILY\" - is this \"EXPLAINED BY: SOCIAL SUPPORT\"?\n",
    "\n",
    "clean_2022_df.head()\n",
    "clean_2022_df.to_csv(\"data/clean_2022.csv\", index=False, encoding=\"ISO-8859-1\")"
   ]
  },
  {
   "cell_type": "code",
   "execution_count": null,
   "id": "c8728564-81a0-4f24-bdd0-411016b0f8ba",
   "metadata": {},
   "outputs": [],
   "source": [
    "# EXAMPLE TO DROP COLUMNS:\n",
    "# drop by Name\n",
    "# df1 = df1.drop(['B', 'C'], axis=1)\n",
    "\n",
    "# # Select the ones you want\n",
    "# df1 = df[['a','d']]"
   ]
  }
 ],
 "metadata": {
  "kernelspec": {
   "display_name": "Python 3 (ipykernel)",
   "language": "python",
   "name": "python3"
  },
  "language_info": {
   "codemirror_mode": {
    "name": "ipython",
    "version": 3
   },
   "file_extension": ".py",
   "mimetype": "text/x-python",
   "name": "python",
   "nbconvert_exporter": "python",
   "pygments_lexer": "ipython3",
   "version": "3.9.13"
  }
 },
 "nbformat": 4,
 "nbformat_minor": 5
}
