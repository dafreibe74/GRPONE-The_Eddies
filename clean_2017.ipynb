{
 "cells": [
  {
   "cell_type": "code",
   "execution_count": 1,
   "id": "37713570-e055-413b-8e3e-2775468caf2d",
   "metadata": {},
   "outputs": [],
   "source": [
    "import pandas as pd"
   ]
  },
  {
   "cell_type": "code",
   "execution_count": 12,
   "id": "909d89b8-a17c-4d85-9741-b5d6c1812ab2",
   "metadata": {},
   "outputs": [],
   "source": [
    "csv_2015 = \"data/2015.csv\"\n",
    "csv_2017 = \"data/2017.csv\" #Kelsey\n",
    "csv_2022 = \"data/2022.csv\" #Kelsey"
   ]
  },
  {
   "cell_type": "code",
   "execution_count": 13,
   "id": "448a7eff-39d5-4961-bd16-a73b9644a95e",
   "metadata": {},
   "outputs": [],
   "source": [
    "csv_2015_df = pd.read_csv(csv_2015)\n",
    "csv_2017_df = pd.read_csv(csv_2017)\n",
    "csv_2022_df = pd.read_csv(csv_2022)"
   ]
  },
  {
   "cell_type": "code",
   "execution_count": 5,
   "id": "f22a95ba-5cf7-4f7b-b39a-8cbcea869a00",
   "metadata": {},
   "outputs": [
    {
     "data": {
      "text/plain": [
       "['Country',\n",
       " 'Region',\n",
       " 'Happiness Rank',\n",
       " 'Happiness Score',\n",
       " 'Standard Error',\n",
       " 'Economy (GDP per Capita)',\n",
       " 'Family',\n",
       " 'Health (Life Expectancy)',\n",
       " 'Freedom',\n",
       " 'Trust (Government Corruption)',\n",
       " 'Generosity',\n",
       " 'Dystopia Residual']"
      ]
     },
     "execution_count": 5,
     "metadata": {},
     "output_type": "execute_result"
    }
   ],
   "source": [
    "csv_2015_df.columns.tolist()"
   ]
  },
  {
   "cell_type": "code",
   "execution_count": 24,
   "id": "776dd2fc-a002-4c08-aafe-274ffae240c6",
   "metadata": {},
   "outputs": [
    {
     "data": {
      "text/plain": [
       "['Country',\n",
       " 'Happiness.Rank',\n",
       " 'Happiness.Score',\n",
       " 'Whisker.high',\n",
       " 'Whisker.low',\n",
       " 'Economy..GDP.per.Capita.',\n",
       " 'Family',\n",
       " 'Health..Life.Expectancy.',\n",
       " 'Freedom',\n",
       " 'Generosity',\n",
       " 'Trust..Government.Corruption.',\n",
       " 'Dystopia.Residual']"
      ]
     },
     "execution_count": 24,
     "metadata": {},
     "output_type": "execute_result"
    }
   ],
   "source": [
    "csv_2017_df.columns.tolist()"
   ]
  },
  {
   "cell_type": "code",
   "execution_count": 31,
   "id": "39ecce79-7242-4076-b9e7-569f52d02868",
   "metadata": {},
   "outputs": [],
   "source": [
    "clean_2017_df = csv_2017_df.rename(columns={'Happiness.Rank' : 'Happiness_Rank', \n",
    "                                    'Happiness.Score' : 'Happiness_Score',\n",
    "                                    'Economy..GDP.per.Capita.' : 'Economy_GDP',\n",
    "                                    'Health..Life.Expectancy.' : 'Life_Expectancy',\n",
    "                                    'Trust..Government.Corruption.' : 'Trust_in_Gov',\n",
    "                                    'Dystopia.Residual' : 'Dystopia_Residual'})"
   ]
  },
  {
   "cell_type": "code",
   "execution_count": 45,
   "id": "a41d3b7c-9648-4391-9e88-9c65186c65a4",
   "metadata": {},
   "outputs": [
    {
     "data": {
      "text/plain": [
       "Index(['Country', 'Happiness_Rank', 'Happiness_Score', 'Economy_GDP', 'Family',\n",
       "       'Life_Expectancy', 'Freedom', 'Generosity', 'Trust_in_Gov',\n",
       "       'Dystopia_Residual', 'Year', 'Region'],\n",
       "      dtype='object')"
      ]
     },
     "execution_count": 45,
     "metadata": {},
     "output_type": "execute_result"
    }
   ],
   "source": [
    "clean_2017_df['Year']=2017\n",
    "clean_2017_df['Region']=\"\"\n",
    "clean_2017_df.columns\n",
    "\n",
    "# 'Country', 'Region', 'Happiness_Rank', 'Happiness_Score', 'Economy_GDP',  \n",
    "# 'Family', 'Life_Expectancy', 'Freedom', 'Trust_in_Gov', 'Generosity', 'Dystopia_Residual'"
   ]
  },
  {
   "cell_type": "code",
   "execution_count": 58,
   "id": "e626cd3f-3690-46cf-835d-ba3423451248",
   "metadata": {},
   "outputs": [
    {
     "data": {
      "text/html": [
       "<div>\n",
       "<style scoped>\n",
       "    .dataframe tbody tr th:only-of-type {\n",
       "        vertical-align: middle;\n",
       "    }\n",
       "\n",
       "    .dataframe tbody tr th {\n",
       "        vertical-align: top;\n",
       "    }\n",
       "\n",
       "    .dataframe thead th {\n",
       "        text-align: right;\n",
       "    }\n",
       "</style>\n",
       "<table border=\"1\" class=\"dataframe\">\n",
       "  <thead>\n",
       "    <tr style=\"text-align: right;\">\n",
       "      <th></th>\n",
       "      <th>Country</th>\n",
       "      <th>Region</th>\n",
       "      <th>Happiness_Rank</th>\n",
       "      <th>Happiness_Score</th>\n",
       "      <th>Economy_GDP</th>\n",
       "      <th>Family</th>\n",
       "      <th>Life_Expectancy</th>\n",
       "      <th>Freedom</th>\n",
       "      <th>Trust_in_Gov</th>\n",
       "      <th>Generosity</th>\n",
       "      <th>Dystopia_Residual</th>\n",
       "      <th>Year</th>\n",
       "    </tr>\n",
       "  </thead>\n",
       "  <tbody>\n",
       "    <tr>\n",
       "      <th>0</th>\n",
       "      <td>Norway</td>\n",
       "      <td></td>\n",
       "      <td>1</td>\n",
       "      <td>7.537</td>\n",
       "      <td>1.616463</td>\n",
       "      <td>1.533524</td>\n",
       "      <td>0.796667</td>\n",
       "      <td>0.635423</td>\n",
       "      <td>0.315964</td>\n",
       "      <td>0.362012</td>\n",
       "      <td>2.277027</td>\n",
       "      <td>2017</td>\n",
       "    </tr>\n",
       "    <tr>\n",
       "      <th>1</th>\n",
       "      <td>Denmark</td>\n",
       "      <td></td>\n",
       "      <td>2</td>\n",
       "      <td>7.522</td>\n",
       "      <td>1.482383</td>\n",
       "      <td>1.551122</td>\n",
       "      <td>0.792566</td>\n",
       "      <td>0.626007</td>\n",
       "      <td>0.400770</td>\n",
       "      <td>0.355280</td>\n",
       "      <td>2.313707</td>\n",
       "      <td>2017</td>\n",
       "    </tr>\n",
       "    <tr>\n",
       "      <th>2</th>\n",
       "      <td>Iceland</td>\n",
       "      <td></td>\n",
       "      <td>3</td>\n",
       "      <td>7.504</td>\n",
       "      <td>1.480633</td>\n",
       "      <td>1.610574</td>\n",
       "      <td>0.833552</td>\n",
       "      <td>0.627163</td>\n",
       "      <td>0.153527</td>\n",
       "      <td>0.475540</td>\n",
       "      <td>2.322715</td>\n",
       "      <td>2017</td>\n",
       "    </tr>\n",
       "    <tr>\n",
       "      <th>3</th>\n",
       "      <td>Switzerland</td>\n",
       "      <td></td>\n",
       "      <td>4</td>\n",
       "      <td>7.494</td>\n",
       "      <td>1.564980</td>\n",
       "      <td>1.516912</td>\n",
       "      <td>0.858131</td>\n",
       "      <td>0.620071</td>\n",
       "      <td>0.367007</td>\n",
       "      <td>0.290549</td>\n",
       "      <td>2.276716</td>\n",
       "      <td>2017</td>\n",
       "    </tr>\n",
       "    <tr>\n",
       "      <th>4</th>\n",
       "      <td>Finland</td>\n",
       "      <td></td>\n",
       "      <td>5</td>\n",
       "      <td>7.469</td>\n",
       "      <td>1.443572</td>\n",
       "      <td>1.540247</td>\n",
       "      <td>0.809158</td>\n",
       "      <td>0.617951</td>\n",
       "      <td>0.382612</td>\n",
       "      <td>0.245483</td>\n",
       "      <td>2.430182</td>\n",
       "      <td>2017</td>\n",
       "    </tr>\n",
       "  </tbody>\n",
       "</table>\n",
       "</div>"
      ],
      "text/plain": [
       "       Country Region  Happiness_Rank  Happiness_Score  Economy_GDP    Family  \\\n",
       "0       Norway                      1            7.537     1.616463  1.533524   \n",
       "1      Denmark                      2            7.522     1.482383  1.551122   \n",
       "2      Iceland                      3            7.504     1.480633  1.610574   \n",
       "3  Switzerland                      4            7.494     1.564980  1.516912   \n",
       "4      Finland                      5            7.469     1.443572  1.540247   \n",
       "\n",
       "   Life_Expectancy   Freedom  Trust_in_Gov  Generosity  Dystopia_Residual  \\\n",
       "0         0.796667  0.635423      0.315964    0.362012           2.277027   \n",
       "1         0.792566  0.626007      0.400770    0.355280           2.313707   \n",
       "2         0.833552  0.627163      0.153527    0.475540           2.322715   \n",
       "3         0.858131  0.620071      0.367007    0.290549           2.276716   \n",
       "4         0.809158  0.617951      0.382612    0.245483           2.430182   \n",
       "\n",
       "   Year  \n",
       "0  2017  \n",
       "1  2017  \n",
       "2  2017  \n",
       "3  2017  \n",
       "4  2017  "
      ]
     },
     "execution_count": 58,
     "metadata": {},
     "output_type": "execute_result"
    }
   ],
   "source": [
    "clean_2017_df = clean_2017_df[['Country', 'Region','Happiness_Rank', 'Happiness_Score',\n",
    "                               'Economy_GDP', 'Family', 'Life_Expectancy', 'Freedom',\n",
    "                               'Trust_in_Gov', 'Generosity', 'Dystopia_Residual', 'Year']]\n",
    "# EXAMPLE TO DROP COLUMNS:\n",
    "# drop by Name\n",
    "# df1 = df1.drop(['B', 'C'], axis=1)\n",
    "\n",
    "# # Select the ones you want\n",
    "# df1 = df[['a','d']]\n",
    "\n",
    "clean_2017_df.head()\n",
    "# clean_2017_df.to_csv(\"data/clean_2017.csv\", index=False, encoding=\"ISO-8859-1\")"
   ]
  },
  {
   "cell_type": "code",
   "execution_count": 14,
   "id": "4f80837e-96e5-4d3b-9f21-58905d009900",
   "metadata": {},
   "outputs": [
    {
     "data": {
      "text/plain": [
       "['RANK',\n",
       " 'Country',\n",
       " 'Happiness score',\n",
       " 'Whisker-high',\n",
       " 'Whisker-low',\n",
       " 'Dystopia (1.83) + residual',\n",
       " 'Explained by: GDP per capita',\n",
       " 'Explained by: Social support',\n",
       " 'Explained by: Healthy life expectancy',\n",
       " 'Explained by: Freedom to make life choices',\n",
       " 'Explained by: Generosity',\n",
       " 'Explained by: Perceptions of corruption']"
      ]
     },
     "execution_count": 14,
     "metadata": {},
     "output_type": "execute_result"
    }
   ],
   "source": [
    "csv_2022_df.columns.tolist()\n",
    "# 'Country', 'Region', 'Happiness_Rank', 'Happiness_Score', 'Economy_GDP',  \n",
    "# 'Family', 'Life_Expectancy', 'Freedom', 'Trust_in_Gov', 'Generosity', 'Dystopia_Residual'"
   ]
  },
  {
   "cell_type": "code",
   "execution_count": 53,
   "id": "56499fe2-40b7-4053-942a-3d0198102ee4",
   "metadata": {},
   "outputs": [],
   "source": [
    "clean_2022_df = csv_2022_df.rename(columns={'RANK' : 'Happiness_Rank',\n",
    "                                            'Happiness score': 'Happiness_Score',\n",
    "                                            'Dystopia (1.83) + residual' : 'Dystopia_Residual',\n",
    "                                            'Explained by: GDP per capita' : 'Economy_GDP',\n",
    "                                            'Explained by: Social support' : 'Family',\n",
    "                                            'Explained by: Healthy life expectancy' : 'Life_Expectancy',\n",
    "                                            'Explained by: Freedom to make life choices' : 'Freedom',\n",
    "                                            'Explained by: Generosity' : 'Generosity',\n",
    "                                            'Explained by: Perceptions of corruption' : 'Trust_in_Gov'})\n",
    "                                            "
   ]
  },
  {
   "cell_type": "code",
   "execution_count": 54,
   "id": "3b6919af-af63-4d76-88e7-3fa50c79e298",
   "metadata": {},
   "outputs": [
    {
     "data": {
      "text/plain": [
       "['Happiness_Rank',\n",
       " 'Country',\n",
       " 'Happiness_Score',\n",
       " 'Whisker-high',\n",
       " 'Whisker-low',\n",
       " 'Dystopia_Residual',\n",
       " 'Economy_GDP',\n",
       " 'Family',\n",
       " 'Life_Expectancy',\n",
       " 'Freedom',\n",
       " 'Generosity',\n",
       " 'Trust_in_Gov',\n",
       " 'Year',\n",
       " 'Region']"
      ]
     },
     "execution_count": 54,
     "metadata": {},
     "output_type": "execute_result"
    }
   ],
   "source": [
    "clean_2022_df['Year']=2022\n",
    "clean_2022_df['Region']=\"\"\n",
    "clean_2022_df.columns.tolist()"
   ]
  },
  {
   "cell_type": "code",
   "execution_count": 42,
   "id": "57c11e09-f237-4129-ab67-9597ef9dad55",
   "metadata": {},
   "outputs": [],
   "source": [
    "# normalized column names:\n",
    "# 'Country', 'Region', 'Happiness_Rank', 'Happiness_Score', 'Economy_GDP',  \n",
    "# 'Family', 'Life_Expectancy', 'Freedom', 'Trust_in_Gov', 'Generosity', 'Dystopia_Residual'"
   ]
  },
  {
   "cell_type": "code",
   "execution_count": 57,
   "id": "69262040-40f2-401c-bf27-03b0494ae5c4",
   "metadata": {},
   "outputs": [
    {
     "data": {
      "text/html": [
       "<div>\n",
       "<style scoped>\n",
       "    .dataframe tbody tr th:only-of-type {\n",
       "        vertical-align: middle;\n",
       "    }\n",
       "\n",
       "    .dataframe tbody tr th {\n",
       "        vertical-align: top;\n",
       "    }\n",
       "\n",
       "    .dataframe thead th {\n",
       "        text-align: right;\n",
       "    }\n",
       "</style>\n",
       "<table border=\"1\" class=\"dataframe\">\n",
       "  <thead>\n",
       "    <tr style=\"text-align: right;\">\n",
       "      <th></th>\n",
       "      <th>Country</th>\n",
       "      <th>Region</th>\n",
       "      <th>Happiness_Rank</th>\n",
       "      <th>Happiness_Score</th>\n",
       "      <th>Economy_GDP</th>\n",
       "      <th>Family</th>\n",
       "      <th>Life_Expectancy</th>\n",
       "      <th>Freedom</th>\n",
       "      <th>Trust_in_Gov</th>\n",
       "      <th>Generosity</th>\n",
       "      <th>Dystopia_Residual</th>\n",
       "      <th>Year</th>\n",
       "    </tr>\n",
       "  </thead>\n",
       "  <tbody>\n",
       "    <tr>\n",
       "      <th>0</th>\n",
       "      <td>Finland</td>\n",
       "      <td></td>\n",
       "      <td>1</td>\n",
       "      <td>7.821</td>\n",
       "      <td>1.892</td>\n",
       "      <td>1.258</td>\n",
       "      <td>0.775</td>\n",
       "      <td>0.736</td>\n",
       "      <td>0.534</td>\n",
       "      <td>0.109</td>\n",
       "      <td>2.518</td>\n",
       "      <td>2022</td>\n",
       "    </tr>\n",
       "    <tr>\n",
       "      <th>1</th>\n",
       "      <td>Denmark</td>\n",
       "      <td></td>\n",
       "      <td>2</td>\n",
       "      <td>7.636</td>\n",
       "      <td>1.953</td>\n",
       "      <td>1.243</td>\n",
       "      <td>0.777</td>\n",
       "      <td>0.719</td>\n",
       "      <td>0.532</td>\n",
       "      <td>0.188</td>\n",
       "      <td>2.226</td>\n",
       "      <td>2022</td>\n",
       "    </tr>\n",
       "    <tr>\n",
       "      <th>2</th>\n",
       "      <td>Iceland</td>\n",
       "      <td></td>\n",
       "      <td>3</td>\n",
       "      <td>7.557</td>\n",
       "      <td>1.936</td>\n",
       "      <td>1.320</td>\n",
       "      <td>0.803</td>\n",
       "      <td>0.718</td>\n",
       "      <td>0.191</td>\n",
       "      <td>0.270</td>\n",
       "      <td>2.320</td>\n",
       "      <td>2022</td>\n",
       "    </tr>\n",
       "    <tr>\n",
       "      <th>3</th>\n",
       "      <td>Switzerland</td>\n",
       "      <td></td>\n",
       "      <td>4</td>\n",
       "      <td>7.512</td>\n",
       "      <td>2.026</td>\n",
       "      <td>1.226</td>\n",
       "      <td>0.822</td>\n",
       "      <td>0.677</td>\n",
       "      <td>0.461</td>\n",
       "      <td>0.147</td>\n",
       "      <td>2.153</td>\n",
       "      <td>2022</td>\n",
       "    </tr>\n",
       "    <tr>\n",
       "      <th>4</th>\n",
       "      <td>Netherlands</td>\n",
       "      <td></td>\n",
       "      <td>5</td>\n",
       "      <td>7.415</td>\n",
       "      <td>1.945</td>\n",
       "      <td>1.206</td>\n",
       "      <td>0.787</td>\n",
       "      <td>0.651</td>\n",
       "      <td>0.419</td>\n",
       "      <td>0.271</td>\n",
       "      <td>2.137</td>\n",
       "      <td>2022</td>\n",
       "    </tr>\n",
       "  </tbody>\n",
       "</table>\n",
       "</div>"
      ],
      "text/plain": [
       "       Country Region  Happiness_Rank  Happiness_Score  Economy_GDP  Family  \\\n",
       "0      Finland                      1            7.821        1.892   1.258   \n",
       "1      Denmark                      2            7.636        1.953   1.243   \n",
       "2      Iceland                      3            7.557        1.936   1.320   \n",
       "3  Switzerland                      4            7.512        2.026   1.226   \n",
       "4  Netherlands                      5            7.415        1.945   1.206   \n",
       "\n",
       "   Life_Expectancy  Freedom  Trust_in_Gov  Generosity  Dystopia_Residual  Year  \n",
       "0            0.775    0.736         0.534       0.109              2.518  2022  \n",
       "1            0.777    0.719         0.532       0.188              2.226  2022  \n",
       "2            0.803    0.718         0.191       0.270              2.320  2022  \n",
       "3            0.822    0.677         0.461       0.147              2.153  2022  \n",
       "4            0.787    0.651         0.419       0.271              2.137  2022  "
      ]
     },
     "execution_count": 57,
     "metadata": {},
     "output_type": "execute_result"
    }
   ],
   "source": [
    "clean_2022_df = clean_2022_df[['Country','Region','Happiness_Rank','Happiness_Score',\n",
    "                               'Economy_GDP',\n",
    "                               'Family',\n",
    "                               'Life_Expectancy',\n",
    "                               'Freedom',\n",
    "                               'Trust_in_Gov',\n",
    "                               'Generosity',\n",
    "                               'Dystopia_Residual',\n",
    "                               'Year']]\n",
    "\n",
    "# 2022 data is missing \"FAMILY\" - is this \"EXPLAINED BY: SOCIAL SUPPORT\"?\n",
    "\n",
    "clean_2022_df.head()\n",
    "# clean_2022_df.to_csv(\"data/clean_2022.csv\", index=False, encoding=\"ISO-8859-1\")"
   ]
  },
  {
   "cell_type": "code",
   "execution_count": null,
   "id": "c8728564-81a0-4f24-bdd0-411016b0f8ba",
   "metadata": {},
   "outputs": [],
   "source": [
    "# EXAMPLE TO DROP COLUMNS:\n",
    "# drop by Name\n",
    "# df1 = df1.drop(['B', 'C'], axis=1)\n",
    "\n",
    "# # Select the ones you want\n",
    "# df1 = df[['a','d']]"
   ]
  }
 ],
 "metadata": {
  "kernelspec": {
   "display_name": "Python 3 (ipykernel)",
   "language": "python",
   "name": "python3"
  },
  "language_info": {
   "codemirror_mode": {
    "name": "ipython",
    "version": 3
   },
   "file_extension": ".py",
   "mimetype": "text/x-python",
   "name": "python",
   "nbconvert_exporter": "python",
   "pygments_lexer": "ipython3",
   "version": "3.9.13"
  }
 },
 "nbformat": 4,
 "nbformat_minor": 5
}
