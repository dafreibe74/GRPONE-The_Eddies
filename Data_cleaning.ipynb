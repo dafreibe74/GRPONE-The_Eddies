{
 "cells": [
  {
   "cell_type": "code",
   "execution_count": null,
   "id": "368b86b1-8565-4422-8ab0-1f8ff0010892",
   "metadata": {},
   "outputs": [],
   "source": [
    "#import necessary libraries\n",
    "import pandas as pd\n",
    "\n",
    "#goal here is to clean our data"
   ]
  },
  {
   "cell_type": "code",
   "execution_count": null,
   "id": "cd483d5c-25f3-48e6-959a-8980f88c9d28",
   "metadata": {},
   "outputs": [],
   "source": [
    "#import the combined csv\n",
    "combined_df = \"data/Combined_Raw_Data.csv\"\n",
    "combined_df = pd.read_csv(combined_df)\n",
    "combined_df = pd.DataFrame(combined_df)\n",
    "combined_df.drop('Unnamed: 0',axis=1,inplace=True)\n",
    "combined_df.head(500)"
   ]
  },
  {
   "cell_type": "code",
   "execution_count": null,
   "id": "6cd30e45-ce9e-4bb7-95b0-b7cdf5f06dde",
   "metadata": {},
   "outputs": [],
   "source": [
    "#show columns in alphabetical order to see which ones have like titles\n",
    "columns = combined_df.columns.tolist()\n",
    "columns.sort()\n",
    "columns"
   ]
  },
  {
   "cell_type": "code",
   "execution_count": null,
   "id": "fa12d606-36fd-43f7-8228-4fd2a0eb17d9",
   "metadata": {},
   "outputs": [],
   "source": [
    "#grouping our like columns\n",
    "country = ['Country','Country name','Country or region']\n",
    "\n"
   ]
  },
  {
   "cell_type": "code",
   "execution_count": null,
   "id": "c9a80fb0-b568-41a2-8b24-127b4ba723b5",
   "metadata": {},
   "outputs": [],
   "source": [
    "# # combined_df.rename(columns={'Explained by: Freedom to make life choices':'Freedom_1'},inplace = True)\n",
    "# # combined_df.rename(columns={'Freedom to make life choices':'Freedom_2'},inplace = True)\n",
    "# combined_df['Freedom'] = combined_df['Explained by: Freedom to make life choices']+combined_df['Freedom to make life choices']\n",
    "# combined_df\n",
    "# # columns = combined_df.columns.tolist()\n",
    "# # columns.sort()\n",
    "# # columns"
   ]
  },
  {
   "cell_type": "code",
   "execution_count": null,
   "id": "70036a76-c1aa-4b79-b03b-737a96aed63c",
   "metadata": {},
   "outputs": [],
   "source": []
  }
 ],
 "metadata": {
  "kernelspec": {
   "display_name": "Python 3 (ipykernel)",
   "language": "python",
   "name": "python3"
  },
  "language_info": {
   "codemirror_mode": {
    "name": "ipython",
    "version": 3
   },
   "file_extension": ".py",
   "mimetype": "text/x-python",
   "name": "python",
   "nbconvert_exporter": "python",
   "pygments_lexer": "ipython3",
   "version": "3.9.13"
  }
 },
 "nbformat": 4,
 "nbformat_minor": 5
}
