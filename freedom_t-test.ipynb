{
 "cells": [
  {
   "cell_type": "code",
   "execution_count": 1,
   "id": "1dbfce9f-eda1-4d12-8bf9-cce3886ace4a",
   "metadata": {},
   "outputs": [],
   "source": [
    "#Import dependencies\n",
    "from pathlib import Path\n",
    "import pandas as pd\n",
    "import scipy.stats as stats"
   ]
  },
  {
   "cell_type": "code",
   "execution_count": 2,
   "id": "0143eb13-42ba-4465-89e0-a27eb302d51d",
   "metadata": {},
   "outputs": [],
   "source": [
    "#import and read files\n",
    "covid = \"data/clean_covid.csv\"\n",
    "non_covid = \"data/clean_NON_covid.csv\"\n",
    "covid_df = pd.read_csv(covid)\n",
    "non_covid_df = pd.read_csv(non_covid)"
   ]
  },
  {
   "cell_type": "code",
   "execution_count": 3,
   "id": "f3619df5-4a47-415c-b0dd-ca335177386e",
   "metadata": {},
   "outputs": [
    {
     "data": {
      "text/plain": [
       "0.42778882089768333"
      ]
     },
     "execution_count": 3,
     "metadata": {},
     "output_type": "execute_result"
    }
   ],
   "source": [
    "# Calculate the freedom mean for non-covid years\n",
    "freedom_non_covid = non_covid_df[\"Freedom\"]\n",
    "freedom_non_covid.mean()"
   ]
  },
  {
   "cell_type": "code",
   "execution_count": 4,
   "id": "9fb30a3c-834d-4b7d-ba63-1b465672636c",
   "metadata": {},
   "outputs": [
    {
     "data": {
      "text/plain": [
       "5.406480603604475"
      ]
     },
     "execution_count": 4,
     "metadata": {},
     "output_type": "execute_result"
    }
   ],
   "source": [
    "# Calculate the happiness score mean for non-covid years\n",
    "happy_non_covid = non_covid_df[\"Happiness_Score\"]\n",
    "happy_non_covid.mean()"
   ]
  },
  {
   "cell_type": "code",
   "execution_count": 5,
   "id": "966eb6cf-fa46-4258-915e-fc9ba9870377",
   "metadata": {},
   "outputs": [
    {
     "data": {
      "text/plain": [
       "Ttest_relResult(statistic=-145.38559054943636, pvalue=0.0)"
      ]
     },
     "execution_count": 5,
     "metadata": {},
     "output_type": "execute_result"
    }
   ],
   "source": [
    "# Calculate Dependent (Two Sample) t-test\n",
    "stats.ttest_rel(freedom_non_covid, happy_non_covid)"
   ]
  },
  {
   "cell_type": "code",
   "execution_count": 6,
   "id": "4a5c42cc-d716-4a69-8b67-bc03eb22a2cc",
   "metadata": {},
   "outputs": [
    {
     "data": {
      "text/plain": [
       "0.7874241918940394"
      ]
     },
     "execution_count": 6,
     "metadata": {},
     "output_type": "execute_result"
    }
   ],
   "source": [
    "# Calculate the freedom mean for covid years\n",
    "freedom_covid = covid_df[\"Freedom\"]\n",
    "freedom_covid.mean()"
   ]
  },
  {
   "cell_type": "code",
   "execution_count": 7,
   "id": "71232c48-10d8-406e-adf9-267d04b768a0",
   "metadata": {},
   "outputs": [
    {
     "data": {
      "text/plain": [
       "5.50264469872848"
      ]
     },
     "execution_count": 7,
     "metadata": {},
     "output_type": "execute_result"
    }
   ],
   "source": [
    "happy_covid = covid_df[\"Happiness_Score\"]\n",
    "happy_covid.mean()"
   ]
  },
  {
   "cell_type": "code",
   "execution_count": 8,
   "id": "8d448e06-0b76-4bd2-9b7c-499679d38480",
   "metadata": {},
   "outputs": [
    {
     "data": {
      "text/plain": [
       "Ttest_relResult(statistic=-79.7806340051008, pvalue=1.6042977111904435e-204)"
      ]
     },
     "execution_count": 8,
     "metadata": {},
     "output_type": "execute_result"
    }
   ],
   "source": [
    "# Calculate Dependent (Two Sample) t-test\n",
    "stats.ttest_rel(freedom_covid, happy_covid)"
   ]
  },
  {
   "cell_type": "code",
   "execution_count": 9,
   "id": "8bb0cc7d-5e05-4c79-bae3-13edadfa43c4",
   "metadata": {},
   "outputs": [
    {
     "data": {
      "text/plain": [
       "Ttest_indResult(statistic=42.806843596747505, pvalue=3.050538673252737e-196)"
      ]
     },
     "execution_count": 9,
     "metadata": {},
     "output_type": "execute_result"
    }
   ],
   "source": [
    "# Calculate Independent (Two Sample) t-test\n",
    "stats.ttest_ind(freedom_covid, freedom_non_covid, equal_var=False)"
   ]
  },
  {
   "cell_type": "code",
   "execution_count": null,
   "id": "71ec6102-aaa4-4658-b499-b89312659736",
   "metadata": {},
   "outputs": [],
   "source": []
  }
 ],
 "metadata": {
  "kernelspec": {
   "display_name": "Python 3 (ipykernel)",
   "language": "python",
   "name": "python3"
  },
  "language_info": {
   "codemirror_mode": {
    "name": "ipython",
    "version": 3
   },
   "file_extension": ".py",
   "mimetype": "text/x-python",
   "name": "python",
   "nbconvert_exporter": "python",
   "pygments_lexer": "ipython3",
   "version": "3.9.13"
  }
 },
 "nbformat": 4,
 "nbformat_minor": 5
}
