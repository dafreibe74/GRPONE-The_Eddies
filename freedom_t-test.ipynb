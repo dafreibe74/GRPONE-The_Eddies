{
 "cells": [
  {
   "cell_type": "code",
   "execution_count": null,
   "id": "1dbfce9f-eda1-4d12-8bf9-cce3886ace4a",
   "metadata": {},
   "outputs": [],
   "source": [
    "#Import dependencies\n",
    "from pathlib import Path\n",
    "import pandas as pd\n",
    "import scipy.stats as stats"
   ]
  },
  {
   "cell_type": "code",
   "execution_count": null,
   "id": "0143eb13-42ba-4465-89e0-a27eb302d51d",
   "metadata": {},
   "outputs": [],
   "source": [
    "#import and read files\n",
    "covid = \"data/clean_covid.csv\"\n",
    "non_covid = \"data/clean_NON_covid.csv\"\n",
    "covid_df = pd.read_csv(covid)\n",
    "non_covid_df = pd.read_csv(non_covid)"
   ]
  },
  {
   "cell_type": "code",
   "execution_count": null,
   "id": "f3619df5-4a47-415c-b0dd-ca335177386e",
   "metadata": {},
   "outputs": [],
   "source": [
    "# Calculate the freedom mean for non-covid years\n",
    "freedom_non_covid = non_covid_df[non_covid_df[\"Freedom\"]]\n",
    "#freedom_non_covid.c.mean()"
   ]
  },
  {
   "cell_type": "code",
   "execution_count": null,
   "id": "4a5c42cc-d716-4a69-8b67-bc03eb22a2cc",
   "metadata": {},
   "outputs": [],
   "source": []
  }
 ],
 "metadata": {
  "kernelspec": {
   "display_name": "Python 3 (ipykernel)",
   "language": "python",
   "name": "python3"
  },
  "language_info": {
   "codemirror_mode": {
    "name": "ipython",
    "version": 3
   },
   "file_extension": ".py",
   "mimetype": "text/x-python",
   "name": "python",
   "nbconvert_exporter": "python",
   "pygments_lexer": "ipython3",
   "version": "3.9.13"
  }
 },
 "nbformat": 4,
 "nbformat_minor": 5
}
