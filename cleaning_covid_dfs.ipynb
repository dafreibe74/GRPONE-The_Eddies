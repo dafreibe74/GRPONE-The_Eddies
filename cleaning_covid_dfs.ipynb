{
 "cells": [
  {
   "cell_type": "code",
   "execution_count": null,
   "id": "4606196b-60c5-48a3-8f11-ab9773d4cd82",
   "metadata": {},
   "outputs": [],
   "source": [
    "\n",
    "import pandas as pd\n"
   ]
  },
  {
   "cell_type": "code",
   "execution_count": null,
   "id": "9dcbb97d-19a7-4975-a7a1-9792bdb02c1f",
   "metadata": {},
   "outputs": [],
   "source": [
    "data = \"data/total_data_clean.csv\"\n",
    "data_df = pd.read_csv(data)"
   ]
  },
  {
   "cell_type": "code",
   "execution_count": null,
   "id": "8fe93e2a-45d9-48ac-a342-7b650a241632",
   "metadata": {},
   "outputs": [],
   "source": [
    "data_df\n",
    "df = data_df.copy()"
   ]
  },
  {
   "cell_type": "code",
   "execution_count": null,
   "id": "fb460355-412a-41c2-a7a8-b4cf91e6e06c",
   "metadata": {},
   "outputs": [],
   "source": [
    "# Creating non-covid dataframe - not including years 2020 & 2021\n",
    "\n",
    "non_covid_df = df[(df.Year != 2020) & (df.Year != 2021)]\n",
    "\n",
    "non_covid_df"
   ]
  },
  {
   "cell_type": "code",
   "execution_count": null,
   "id": "dc8e896e-24d4-4d41-8041-ac8c762dae3f",
   "metadata": {},
   "outputs": [],
   "source": [
    "# Creating Covid-only DataFrame - years = 2020 & 2021\n",
    "covid_df = df[(df.Year == 2020) | (df.Year == 2021)]\n",
    "covid_df\n"
   ]
  },
  {
   "cell_type": "code",
   "execution_count": null,
   "id": "60139d1e-c450-4e97-8f81-3fca7bbfc16a",
   "metadata": {},
   "outputs": [],
   "source": [
    "covid_df.to_csv(\"data/clean_covid.csv\", index=False, encoding=\"ISO-8859-1\")"
   ]
  },
  {
   "cell_type": "code",
   "execution_count": null,
   "id": "e87828d9-d84e-4b77-a54b-650e9179e090",
   "metadata": {},
   "outputs": [],
   "source": [
    "non_covid_df.to_csv(\"data/clean_NON_covid.csv\", index=False, encoding=\"ISO-8859-1\")"
   ]
  },
  {
   "cell_type": "code",
   "execution_count": null,
   "id": "b78ab50f-d91b-4c9d-a3e3-5197d00105a2",
   "metadata": {},
   "outputs": [],
   "source": []
  }
 ],
 "metadata": {
  "kernelspec": {
   "display_name": "Python 3 (ipykernel)",
   "language": "python",
   "name": "python3"
  },
  "language_info": {
   "codemirror_mode": {
    "name": "ipython",
    "version": 3
   },
   "file_extension": ".py",
   "mimetype": "text/x-python",
   "name": "python",
   "nbconvert_exporter": "python",
   "pygments_lexer": "ipython3",
   "version": "3.9.13"
  }
 },
 "nbformat": 4,
 "nbformat_minor": 5
}
