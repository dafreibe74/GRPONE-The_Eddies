{
 "cells": [
  {
   "cell_type": "code",
   "execution_count": 1,
   "id": "9ee07683-f76d-4094-ab5c-af4e503a097c",
   "metadata": {},
   "outputs": [],
   "source": [
    "#Import dependencies\n",
    "from pathlib import Path\n",
    "import pandas as pd\n",
    "import scipy.stats as stats"
   ]
  },
  {
   "cell_type": "code",
   "execution_count": 2,
   "id": "72026dc7-4ca6-4b3c-981a-14ee1849777a",
   "metadata": {},
   "outputs": [],
   "source": [
    "#import and read files\n",
    "covid = \"data/clean_covid.csv\"\n",
    "non_covid = \"data/clean_NON_covid.csv\"\n",
    "covid_df = pd.read_csv(covid)\n",
    "non_covid_df = pd.read_csv(non_covid)"
   ]
  },
  {
   "cell_type": "code",
   "execution_count": 4,
   "id": "a3caff1b-3d29-4621-8930-f67580313be2",
   "metadata": {},
   "outputs": [
    {
     "data": {
      "text/plain": [
       "0.12991725667780163"
      ]
     },
     "execution_count": 4,
     "metadata": {},
     "output_type": "execute_result"
    }
   ],
   "source": [
    "# Calculate the trust mean for non-covid years\n",
    "trust_non_covid = non_covid_df[\"Trust_in_Gov\"]\n",
    "trust_non_covid.mean()"
   ]
  },
  {
   "cell_type": "code",
   "execution_count": 11,
   "id": "f4b7ed56-951c-4f9d-bc17-8743dd32a09a",
   "metadata": {},
   "outputs": [
    {
     "data": {
      "text/plain": [
       "5.406480603604519"
      ]
     },
     "execution_count": 11,
     "metadata": {},
     "output_type": "execute_result"
    }
   ],
   "source": [
    "# Calculate the freedom mean for non-covid years\n",
    "happy_non_covid = non_covid_df[\"Happiness_Score\"]\n",
    "happy_non_covid.mean()"
   ]
  },
  {
   "cell_type": "code",
   "execution_count": 13,
   "id": "416129dc-4170-427d-971c-1fbfc9987155",
   "metadata": {},
   "outputs": [
    {
     "data": {
      "text/plain": [
       "Ttest_relResult(statistic=-148.42306559515245, pvalue=0.0)"
      ]
     },
     "execution_count": 13,
     "metadata": {},
     "output_type": "execute_result"
    }
   ],
   "source": [
    "# Calculate Independent (Two Sample) t-test\n",
    "stats.ttest_rel(trust_non_covid, happy_non_covid)"
   ]
  },
  {
   "cell_type": "code",
   "execution_count": null,
   "id": "92bb03cc-ace4-4456-bc37-3226608f6ddb",
   "metadata": {},
   "outputs": [],
   "source": []
  }
 ],
 "metadata": {
  "kernelspec": {
   "display_name": "Python 3 (ipykernel)",
   "language": "python",
   "name": "python3"
  },
  "language_info": {
   "codemirror_mode": {
    "name": "ipython",
    "version": 3
   },
   "file_extension": ".py",
   "mimetype": "text/x-python",
   "name": "python",
   "nbconvert_exporter": "python",
   "pygments_lexer": "ipython3",
   "version": "3.9.13"
  }
 },
 "nbformat": 4,
 "nbformat_minor": 5
}
