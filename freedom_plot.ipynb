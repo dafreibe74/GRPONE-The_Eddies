{
 "cells": [
  {
   "cell_type": "code",
   "execution_count": null,
   "id": "f0cda9fd-1d7a-4905-aa36-2032a3cc60f6",
   "metadata": {},
   "outputs": [],
   "source": [
    "#Import Dependencies\n",
    "import matplotlib.pyplot as plt\n",
    "import pandas as pd\n",
    "import numpy as np\n",
    "from scipy.stats import linregress\n",
    "from scipy import stats"
   ]
  },
  {
   "cell_type": "code",
   "execution_count": null,
   "id": "4c8b00ee-192f-4846-9181-09ee50c89e69",
   "metadata": {},
   "outputs": [],
   "source": [
    "#Read in files\n",
    "covid = \"data/clean_covid.csv\"\n",
    "non_covid = \"data/clean_NON_covid.csv\"\n",
    "covid_df = pd.read_csv(covid)\n",
    "non_covid_df = pd.read_csv(non_covid)"
   ]
  },
  {
   "cell_type": "code",
   "execution_count": null,
   "id": "4bced53b-cb38-4355-9df8-91d6f475ddb5",
   "metadata": {},
   "outputs": [],
   "source": [
    "# Regression line and scatter plot\n",
    "x= non_covid_df['Happiness_Score'] \n",
    "y= non_covid_df['Freedom']\n",
    "    \n",
    "(slope, intercept, rvalue, pvalue, stderr) = stats.linregress(x, y)\n",
    "    \n",
    "regression_values = x * slope + intercept\n",
    "    \n",
    "line_eq = \"y = \" + str(round(slope,2)) + \"x +\" + str(round(intercept,2))\n",
    "print(line_eq)\n",
    "    \n",
    "plt.scatter(x,y,color='b')\n",
    "plt.plot(x,regression_values,\"k-\")\n",
    "  \n",
    "x_scale = x.min()\n",
    "y_scale = y.max()\n",
    "plt.annotate(line_eq,(x_scale,y_scale),fontsize=15,color=\"k\")\n",
    "plt.xlabel('Happiness Score')\n",
    "plt.ylabel('Freedom')\n",
    "plt.title('Happiness Score vs. Freedom in Non-Covid Years')\n",
    "    \n",
    "print(f\"The r-value is: {rvalue**2}\")\n",
    "print(f\"The p-value is: {rvalue**2}\")\n",
    "\n",
    "#Save the figure\n",
    "plt.savefig(\"plots/freedom_plot_non_covid.png\")\n",
    "\n",
    "plt.show()"
   ]
  },
  {
   "cell_type": "code",
   "execution_count": null,
   "id": "b1c6e3e3-245a-4351-81d6-8e3cd7a7db0c",
   "metadata": {},
   "outputs": [],
   "source": [
    "# Regression line and scatter plot\n",
    "x= covid_df['Happiness_Score'] \n",
    "y= covid_df['Freedom']\n",
    "    \n",
    "(slope, intercept, rvalue, pvalue, stderr) = stats.linregress(x, y)\n",
    "    \n",
    "regression_values = x * slope + intercept\n",
    "    \n",
    "line_eq = \"y = \" + str(round(slope,2)) + \"x +\" + str(round(intercept,2))\n",
    "print(line_eq)\n",
    "    \n",
    "plt.scatter(x,y,color='r')\n",
    "plt.plot(x,regression_values,\"k-\")\n",
    "  \n",
    "x_scale = x.min()\n",
    "y_scale = y.max()\n",
    "plt.annotate(line_eq,(x_scale,y_scale),fontsize=15,color=\"k\")\n",
    "plt.xlabel('Happiness Score')\n",
    "plt.ylabel('Freedom')\n",
    "plt.title('Happiness Score vs. Freedom in Covid Years')\n",
    "    \n",
    "print(f\"The r-value is: {rvalue**2}\")\n",
    "print(f\"The p-value is: {rvalue**2}\")\n",
    "\n",
    "#Save the figure\n",
    "plt.savefig(\"plots/freedom_plot_covid.png\")\n",
    "\n",
    "plt.show()"
   ]
  },
  {
   "cell_type": "code",
   "execution_count": null,
   "id": "70ba061a-8ec7-4e86-90fc-e1bc8f8f76ae",
   "metadata": {},
   "outputs": [],
   "source": []
  }
 ],
 "metadata": {
  "kernelspec": {
   "display_name": "Python 3 (ipykernel)",
   "language": "python",
   "name": "python3"
  },
  "language_info": {
   "codemirror_mode": {
    "name": "ipython",
    "version": 3
   },
   "file_extension": ".py",
   "mimetype": "text/x-python",
   "name": "python",
   "nbconvert_exporter": "python",
   "pygments_lexer": "ipython3",
   "version": "3.9.13"
  }
 },
 "nbformat": 4,
 "nbformat_minor": 5
}
