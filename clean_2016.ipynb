{
 "cells": [
  {
   "cell_type": "code",
   "execution_count": 16,
   "id": "b1326949-4ff5-4dfb-8473-40f4e9a38736",
   "metadata": {},
   "outputs": [],
   "source": [
    "import pandas as pd"
   ]
  },
  {
   "cell_type": "code",
   "execution_count": 17,
   "id": "69296c75-f940-4a94-8bdd-52277818123e",
   "metadata": {},
   "outputs": [],
   "source": [
    "#compare column titles\n",
    "csv_2015 = \"data/2015.csv\"\n",
    "csv_2016 = \"data/2016.csv\" #Peter\n",
    "csv_2015_df = pd.read_csv(csv_2015)\n",
    "csv_2016_df = pd.read_csv(csv_2016)"
   ]
  },
  {
   "cell_type": "code",
   "execution_count": 22,
   "id": "c32a362e-eef5-4447-af54-8c94d8874de0",
   "metadata": {},
   "outputs": [
    {
     "data": {
      "text/plain": [
       "['Country',\n",
       " 'Region',\n",
       " 'Happiness Rank',\n",
       " 'Happiness Score',\n",
       " 'Economy (GDP per Capita)',\n",
       " 'Family',\n",
       " 'Health (Life Expectancy)',\n",
       " 'Freedom',\n",
       " 'Trust (Government Corruption)',\n",
       " 'Generosity',\n",
       " 'Dystopia Residual']"
      ]
     },
     "execution_count": 22,
     "metadata": {},
     "output_type": "execute_result"
    }
   ],
   "source": [
    "#look at 2015\n",
    "csv_2015_df.columns.tolist()"
   ]
  },
  {
   "cell_type": "code",
   "execution_count": 23,
   "id": "2fa900cf-4819-4d0b-a98c-fe6816d08a27",
   "metadata": {},
   "outputs": [
    {
     "data": {
      "text/plain": [
       "['Country',\n",
       " 'Region',\n",
       " 'Happiness Rank',\n",
       " 'Happiness Score',\n",
       " 'Economy (GDP per Capita)',\n",
       " 'Family',\n",
       " 'Health (Life Expectancy)',\n",
       " 'Freedom',\n",
       " 'Trust (Government Corruption)',\n",
       " 'Generosity',\n",
       " 'Dystopia Residual']"
      ]
     },
     "execution_count": 23,
     "metadata": {},
     "output_type": "execute_result"
    }
   ],
   "source": [
    "#look at 2016\n",
    "csv_2016_df.columns.tolist()"
   ]
  },
  {
   "cell_type": "code",
   "execution_count": 20,
   "id": "b5bf2d95-b9ba-40cf-a8fd-b6b2cc392876",
   "metadata": {},
   "outputs": [],
   "source": [
    "#clean the csvs up\n",
    "csv_2016_df = csv_2016_df.drop(columns=['Lower Confidence Interval','Upper Confidence Interval'])\n",
    "csv_2015_df = csv_2015_df.drop(columns=['Standard Error'])"
   ]
  },
  {
   "cell_type": "code",
   "execution_count": 21,
   "id": "750c0239-ff50-4366-89ea-698795ae6f66",
   "metadata": {},
   "outputs": [],
   "source": [
    "#export to csv\n",
    "csv_2016_df.to_csv('data/clean_2016.csv')\n",
    "csv_2015_df.to_csv('data/clean_2015.csv')"
   ]
  },
  {
   "cell_type": "code",
   "execution_count": null,
   "id": "9cbe1a94-50e9-4443-9367-54f85e7840d5",
   "metadata": {},
   "outputs": [],
   "source": []
  }
 ],
 "metadata": {
  "kernelspec": {
   "display_name": "Python 3 (ipykernel)",
   "language": "python",
   "name": "python3"
  },
  "language_info": {
   "codemirror_mode": {
    "name": "ipython",
    "version": 3
   },
   "file_extension": ".py",
   "mimetype": "text/x-python",
   "name": "python",
   "nbconvert_exporter": "python",
   "pygments_lexer": "ipython3",
   "version": "3.9.13"
  }
 },
 "nbformat": 4,
 "nbformat_minor": 5
}
